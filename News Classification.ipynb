{
 "cells": [
  {
   "cell_type": "markdown",
   "metadata": {},
   "source": [
    "# Importing Libraries"
   ]
  },
  {
   "cell_type": "code",
   "execution_count": 1,
   "metadata": {},
   "outputs": [],
   "source": [
    "import os\n",
    "from os import makedirs\n",
    "from os.path import join, exists\n",
    "from datetime import date, timedelta\n",
    "import glob\n",
    "import json\n",
    "import requests\n",
    "import string\n",
    "\n",
    "import pandas as pd\n",
    "import numpy as np\n",
    "\n",
    "import seaborn as sns\n",
    "import matplotlib.pyplot as plt\n",
    "\n",
    "import nltk\n",
    "from nltk.corpus import stopwords\n",
    "import re\n",
    "\n",
    "from sklearn.model_selection import train_test_split\n",
    "\n",
    "import warnings\n",
    "warnings.filterwarnings(\"ignore\")"
   ]
  },
  {
   "cell_type": "markdown",
   "metadata": {},
   "source": [
    "https://gist.github.com/dannguyen/c9cb220093ee4c12b840"
   ]
  },
  {
   "cell_type": "markdown",
   "metadata": {},
   "source": [
    "# GuardianAPI"
   ]
  },
  {
   "cell_type": "code",
   "execution_count": 5,
   "metadata": {},
   "outputs": [
    {
     "name": "stdout",
     "output_type": "stream",
     "text": [
      "Downloading 2021-01-04\n",
      "...page 1\n",
      "Writing to datafolder\\articles1\\2021-01-04.json\n",
      "Downloading 2021-01-05\n",
      "...page 1\n",
      "Writing to datafolder\\articles1\\2021-01-05.json\n",
      "Downloading 2021-01-06\n",
      "...page 1\n",
      "Writing to datafolder\\articles1\\2021-01-06.json\n",
      "Downloading 2021-01-07\n",
      "...page 1\n",
      "...page 2\n",
      "Writing to datafolder\\articles1\\2021-01-07.json\n",
      "Downloading 2021-01-08\n",
      "...page 1\n",
      "...page 2\n",
      "Writing to datafolder\\articles1\\2021-01-08.json\n",
      "Downloading 2021-01-09\n",
      "...page 1\n",
      "Writing to datafolder\\articles1\\2021-01-09.json\n",
      "Downloading 2021-01-10\n",
      "...page 1\n",
      "Writing to datafolder\\articles1\\2021-01-10.json\n"
     ]
    }
   ],
   "source": [
    "ARTICLES_DIR = join('datafolder', 'articles')\n",
    "makedirs(ARTICLES_DIR, exist_ok=True)\n",
    "\n",
    "MY_API_KEY = \"b8c7855c-e07e-4c00-b2c5-43baea55dfac\"\n",
    "API_ENDPOINT = 'http://content.guardianapis.com/search'\n",
    "my_params = {\n",
    "    'from-date': \"\",\n",
    "    'to-date': \"\",\n",
    "    'order-by': \"newest\",\n",
    "    'show-fields': 'all',\n",
    "    'page-size': 200,\n",
    "    'api-key': MY_API_KEY\n",
    "}\n",
    "\n",
    "\n",
    "# day iteration from here:\n",
    "# http://stackoverflow.com/questions/7274267/print-all-day-dates-between-two-dates\n",
    "start_date = date(2021, 1, 1)\n",
    "end_date = date(2021,5, 1)\n",
    "dayrange = range((end_date - start_date).days + 1)\n",
    "for daycount in dayrange:\n",
    "    dt = start_date + timedelta(days=daycount)\n",
    "    datestr = dt.strftime('%Y-%m-%d')\n",
    "    fname = join(ARTICLES_DIR, datestr + '.json')\n",
    "    if not exists(fname):\n",
    "        # then let's download it\n",
    "        print(\"Downloading\", datestr)\n",
    "        all_results = []\n",
    "        my_params['from-date'] = datestr\n",
    "        my_params['to-date'] = datestr\n",
    "        current_page = 1\n",
    "        total_pages = 1\n",
    "        while current_page <= total_pages:\n",
    "            print(\"...page\", current_page)\n",
    "            my_params['page'] = current_page\n",
    "            resp = requests.get(API_ENDPOINT, my_params)\n",
    "            data = resp.json()\n",
    "            all_results.extend(data['response']['results'])\n",
    "            # if there is more than one page\n",
    "            current_page += 1\n",
    "            total_pages = data['response']['pages']\n",
    "\n",
    "        with open(fname, 'w') as f:\n",
    "            print(\"Writing to\", fname)\n",
    "\n",
    "            # re-serialize it for pretty indentation\n",
    "            f.write(json.dumps(all_results, indent=2))"
   ]
  },
  {
   "cell_type": "code",
   "execution_count": 2,
   "metadata": {},
   "outputs": [],
   "source": [
    "data=pd.read_json (r'C:\\Users\\asus\\NLP project\\datafolder\\articles\\2021-01-10.json')"
   ]
  },
  {
   "cell_type": "code",
   "execution_count": 3,
   "metadata": {},
   "outputs": [
    {
     "data": {
      "text/html": [
       "<div>\n",
       "<style scoped>\n",
       "    .dataframe tbody tr th:only-of-type {\n",
       "        vertical-align: middle;\n",
       "    }\n",
       "\n",
       "    .dataframe tbody tr th {\n",
       "        vertical-align: top;\n",
       "    }\n",
       "\n",
       "    .dataframe thead th {\n",
       "        text-align: right;\n",
       "    }\n",
       "</style>\n",
       "<table border=\"1\" class=\"dataframe\">\n",
       "  <thead>\n",
       "    <tr style=\"text-align: right;\">\n",
       "      <th></th>\n",
       "      <th>id</th>\n",
       "      <th>type</th>\n",
       "      <th>sectionId</th>\n",
       "      <th>sectionName</th>\n",
       "      <th>webPublicationDate</th>\n",
       "      <th>webTitle</th>\n",
       "      <th>webUrl</th>\n",
       "      <th>apiUrl</th>\n",
       "      <th>fields</th>\n",
       "      <th>isHosted</th>\n",
       "      <th>pillarId</th>\n",
       "      <th>pillarName</th>\n",
       "    </tr>\n",
       "  </thead>\n",
       "  <tbody>\n",
       "    <tr>\n",
       "      <th>0</th>\n",
       "      <td>world/live/2021/jan/10/coronavirus-live-news-o...</td>\n",
       "      <td>liveblog</td>\n",
       "      <td>world</td>\n",
       "      <td>World news</td>\n",
       "      <td>2021-01-10T23:56:33Z</td>\n",
       "      <td>UK reports nearly 55,000 new infections – as i...</td>\n",
       "      <td>https://www.theguardian.com/world/live/2021/ja...</td>\n",
       "      <td>https://content.guardianapis.com/world/live/20...</td>\n",
       "      <td>{'headline': 'UK reports nearly 55,000 new inf...</td>\n",
       "      <td>False</td>\n",
       "      <td>pillar/news</td>\n",
       "      <td>News</td>\n",
       "    </tr>\n",
       "    <tr>\n",
       "      <th>1</th>\n",
       "      <td>us-news/2021/jan/10/donald-trump-capitol-attac...</td>\n",
       "      <td>article</td>\n",
       "      <td>us-news</td>\n",
       "      <td>US news</td>\n",
       "      <td>2021-01-10T23:02:10Z</td>\n",
       "      <td>Democrats ponder delaying Trump impeachment tr...</td>\n",
       "      <td>https://www.theguardian.com/us-news/2021/jan/1...</td>\n",
       "      <td>https://content.guardianapis.com/us-news/2021/...</td>\n",
       "      <td>{'headline': 'Democrats ponder delaying Trump ...</td>\n",
       "      <td>False</td>\n",
       "      <td>pillar/news</td>\n",
       "      <td>News</td>\n",
       "    </tr>\n",
       "    <tr>\n",
       "      <th>2</th>\n",
       "      <td>football/2021/jan/10/newport-brighton-fa-cup-m...</td>\n",
       "      <td>article</td>\n",
       "      <td>football</td>\n",
       "      <td>Football</td>\n",
       "      <td>2021-01-10T22:50:21Z</td>\n",
       "      <td>Jason Steele's acrobatics take Brighton past N...</td>\n",
       "      <td>https://www.theguardian.com/football/2021/jan/...</td>\n",
       "      <td>https://content.guardianapis.com/football/2021...</td>\n",
       "      <td>{'headline': 'Jason Steele's acrobatics take B...</td>\n",
       "      <td>False</td>\n",
       "      <td>pillar/sport</td>\n",
       "      <td>Sport</td>\n",
       "    </tr>\n",
       "    <tr>\n",
       "      <th>3</th>\n",
       "      <td>football/2021/jan/10/paul-pogba-victor-lindelo...</td>\n",
       "      <td>article</td>\n",
       "      <td>football</td>\n",
       "      <td>Football</td>\n",
       "      <td>2021-01-10T22:30:02Z</td>\n",
       "      <td>Pogba, Lindelöf and Shaw in fitness race for M...</td>\n",
       "      <td>https://www.theguardian.com/football/2021/jan/...</td>\n",
       "      <td>https://content.guardianapis.com/football/2021...</td>\n",
       "      <td>{'headline': 'Pogba, Lindelöf and Shaw in fitn...</td>\n",
       "      <td>False</td>\n",
       "      <td>pillar/sport</td>\n",
       "      <td>Sport</td>\n",
       "    </tr>\n",
       "    <tr>\n",
       "      <th>4</th>\n",
       "      <td>football/2021/jan/10/respect-jose-mourinho-mar...</td>\n",
       "      <td>article</td>\n",
       "      <td>football</td>\n",
       "      <td>Football</td>\n",
       "      <td>2021-01-10T21:18:03Z</td>\n",
       "      <td>'I have so much respect for Mourinho': Marine'...</td>\n",
       "      <td>https://www.theguardian.com/football/2021/jan/...</td>\n",
       "      <td>https://content.guardianapis.com/football/2021...</td>\n",
       "      <td>{'headline': ''I have so much respect for Mour...</td>\n",
       "      <td>False</td>\n",
       "      <td>pillar/sport</td>\n",
       "      <td>Sport</td>\n",
       "    </tr>\n",
       "  </tbody>\n",
       "</table>\n",
       "</div>"
      ],
      "text/plain": [
       "                                                  id      type sectionId  \\\n",
       "0  world/live/2021/jan/10/coronavirus-live-news-o...  liveblog     world   \n",
       "1  us-news/2021/jan/10/donald-trump-capitol-attac...   article   us-news   \n",
       "2  football/2021/jan/10/newport-brighton-fa-cup-m...   article  football   \n",
       "3  football/2021/jan/10/paul-pogba-victor-lindelo...   article  football   \n",
       "4  football/2021/jan/10/respect-jose-mourinho-mar...   article  football   \n",
       "\n",
       "  sectionName    webPublicationDate  \\\n",
       "0  World news  2021-01-10T23:56:33Z   \n",
       "1     US news  2021-01-10T23:02:10Z   \n",
       "2    Football  2021-01-10T22:50:21Z   \n",
       "3    Football  2021-01-10T22:30:02Z   \n",
       "4    Football  2021-01-10T21:18:03Z   \n",
       "\n",
       "                                            webTitle  \\\n",
       "0  UK reports nearly 55,000 new infections – as i...   \n",
       "1  Democrats ponder delaying Trump impeachment tr...   \n",
       "2  Jason Steele's acrobatics take Brighton past N...   \n",
       "3  Pogba, Lindelöf and Shaw in fitness race for M...   \n",
       "4  'I have so much respect for Mourinho': Marine'...   \n",
       "\n",
       "                                              webUrl  \\\n",
       "0  https://www.theguardian.com/world/live/2021/ja...   \n",
       "1  https://www.theguardian.com/us-news/2021/jan/1...   \n",
       "2  https://www.theguardian.com/football/2021/jan/...   \n",
       "3  https://www.theguardian.com/football/2021/jan/...   \n",
       "4  https://www.theguardian.com/football/2021/jan/...   \n",
       "\n",
       "                                              apiUrl  \\\n",
       "0  https://content.guardianapis.com/world/live/20...   \n",
       "1  https://content.guardianapis.com/us-news/2021/...   \n",
       "2  https://content.guardianapis.com/football/2021...   \n",
       "3  https://content.guardianapis.com/football/2021...   \n",
       "4  https://content.guardianapis.com/football/2021...   \n",
       "\n",
       "                                              fields  isHosted      pillarId  \\\n",
       "0  {'headline': 'UK reports nearly 55,000 new inf...     False   pillar/news   \n",
       "1  {'headline': 'Democrats ponder delaying Trump ...     False   pillar/news   \n",
       "2  {'headline': 'Jason Steele's acrobatics take B...     False  pillar/sport   \n",
       "3  {'headline': 'Pogba, Lindelöf and Shaw in fitn...     False  pillar/sport   \n",
       "4  {'headline': ''I have so much respect for Mour...     False  pillar/sport   \n",
       "\n",
       "  pillarName  \n",
       "0       News  \n",
       "1       News  \n",
       "2      Sport  \n",
       "3      Sport  \n",
       "4      Sport  "
      ]
     },
     "execution_count": 3,
     "metadata": {},
     "output_type": "execute_result"
    }
   ],
   "source": [
    "data.head()"
   ]
  },
  {
   "cell_type": "code",
   "execution_count": 4,
   "metadata": {},
   "outputs": [
    {
     "name": "stdout",
     "output_type": "stream",
     "text": [
      " PillarName column has 5 unique values: ['Sport' 'News' 'Arts' 'Lifestyle' 'Opinion']\n"
     ]
    }
   ],
   "source": [
    "print(f' PillarName column has {len(data.pillarName.unique())} unique values: {data.pillarName.unique()}')"
   ]
  },
  {
   "cell_type": "code",
   "execution_count": 5,
   "metadata": {},
   "outputs": [
    {
     "data": {
      "text/plain": [
       "News         81\n",
       "Arts         27\n",
       "Sport        27\n",
       "Lifestyle    18\n",
       "Opinion      11\n",
       "Name: pillarName, dtype: int64"
      ]
     },
     "execution_count": 5,
     "metadata": {},
     "output_type": "execute_result"
    }
   ],
   "source": [
    "data['pillarName'].value_counts()"
   ]
  },
  {
   "cell_type": "code",
   "execution_count": 6,
   "metadata": {},
   "outputs": [
    {
     "data": {
      "text/plain": [
       "id                    0\n",
       "type                  0\n",
       "sectionId             0\n",
       "sectionName           0\n",
       "webPublicationDate    0\n",
       "webTitle              0\n",
       "webUrl                0\n",
       "apiUrl                0\n",
       "fields                0\n",
       "isHosted              0\n",
       "pillarId              0\n",
       "pillarName            0\n",
       "dtype: int64"
      ]
     },
     "execution_count": 6,
     "metadata": {},
     "output_type": "execute_result"
    }
   ],
   "source": [
    "data.isnull().sum()"
   ]
  },
  {
   "cell_type": "code",
   "execution_count": 7,
   "metadata": {},
   "outputs": [
    {
     "data": {
      "text/plain": [
       "id                    football/live/2021/jan/01/manchester-united-v-...\n",
       "type                                                           liveblog\n",
       "sectionId                                                      football\n",
       "sectionName                                                    Football\n",
       "webPublicationDate                                 2021-01-01T23:30:38Z\n",
       "webTitle              Manchester United v Aston Villa: Premier Leagu...\n",
       "webUrl                https://www.theguardian.com/football/live/2021...\n",
       "apiUrl                https://content.guardianapis.com/football/live...\n",
       "fields                {'headline': 'Manchester United v Aston Villa:...\n",
       "isHosted                                                          False\n",
       "pillarId                                                   pillar/sport\n",
       "pillarName                                                        Sport\n",
       "Name: 0, dtype: object"
      ]
     },
     "execution_count": 7,
     "metadata": {},
     "output_type": "execute_result"
    }
   ],
   "source": [
    "data.iloc[0]"
   ]
  },
  {
   "cell_type": "markdown",
   "metadata": {},
   "source": [
    "# Concatenate Articles"
   ]
  },
  {
   "cell_type": "code",
   "execution_count": 8,
   "metadata": {},
   "outputs": [],
   "source": [
    "path = r'C:\\Users\\asus\\NLP project\\datafolder\\articles1'                   \n",
    "all_files = glob.glob(os.path.join(path, \"*.json\"))    \n",
    "df_from_each_file = (pd.read_json(f) for f in all_files)\n",
    "concatenated_df   = pd.concat(df_from_each_file, ignore_index=True)\n"
   ]
  },
  {
   "cell_type": "code",
   "execution_count": 9,
   "metadata": {},
   "outputs": [
    {
     "data": {
      "text/html": [
       "<div>\n",
       "<style scoped>\n",
       "    .dataframe tbody tr th:only-of-type {\n",
       "        vertical-align: middle;\n",
       "    }\n",
       "\n",
       "    .dataframe tbody tr th {\n",
       "        vertical-align: top;\n",
       "    }\n",
       "\n",
       "    .dataframe thead th {\n",
       "        text-align: right;\n",
       "    }\n",
       "</style>\n",
       "<table border=\"1\" class=\"dataframe\">\n",
       "  <thead>\n",
       "    <tr style=\"text-align: right;\">\n",
       "      <th></th>\n",
       "      <th>id</th>\n",
       "      <th>type</th>\n",
       "      <th>sectionId</th>\n",
       "      <th>sectionName</th>\n",
       "      <th>webPublicationDate</th>\n",
       "      <th>webTitle</th>\n",
       "      <th>webUrl</th>\n",
       "      <th>apiUrl</th>\n",
       "      <th>fields</th>\n",
       "      <th>isHosted</th>\n",
       "      <th>pillarId</th>\n",
       "      <th>pillarName</th>\n",
       "    </tr>\n",
       "  </thead>\n",
       "  <tbody>\n",
       "    <tr>\n",
       "      <th>0</th>\n",
       "      <td>football/live/2021/jan/01/manchester-united-v-...</td>\n",
       "      <td>liveblog</td>\n",
       "      <td>football</td>\n",
       "      <td>Football</td>\n",
       "      <td>2021-01-01T23:30:38Z</td>\n",
       "      <td>Manchester United v Aston Villa: Premier Leagu...</td>\n",
       "      <td>https://www.theguardian.com/football/live/2021...</td>\n",
       "      <td>https://content.guardianapis.com/football/live...</td>\n",
       "      <td>{'headline': 'Manchester United v Aston Villa:...</td>\n",
       "      <td>False</td>\n",
       "      <td>pillar/sport</td>\n",
       "      <td>Sport</td>\n",
       "    </tr>\n",
       "    <tr>\n",
       "      <th>1</th>\n",
       "      <td>football/2021/jan/01/manchester-united-must-im...</td>\n",
       "      <td>article</td>\n",
       "      <td>football</td>\n",
       "      <td>Football</td>\n",
       "      <td>2021-01-01T23:16:24Z</td>\n",
       "      <td>Manchester United must improve to challenge fo...</td>\n",
       "      <td>https://www.theguardian.com/football/2021/jan/...</td>\n",
       "      <td>https://content.guardianapis.com/football/2021...</td>\n",
       "      <td>{'headline': 'Manchester United must improve t...</td>\n",
       "      <td>False</td>\n",
       "      <td>pillar/sport</td>\n",
       "      <td>Sport</td>\n",
       "    </tr>\n",
       "    <tr>\n",
       "      <th>2</th>\n",
       "      <td>football/2021/jan/01/chris-basham-sheffield-un...</td>\n",
       "      <td>article</td>\n",
       "      <td>football</td>\n",
       "      <td>Football</td>\n",
       "      <td>2021-01-01T22:30:21Z</td>\n",
       "      <td>Chris Basham says record low fear can spur She...</td>\n",
       "      <td>https://www.theguardian.com/football/2021/jan/...</td>\n",
       "      <td>https://content.guardianapis.com/football/2021...</td>\n",
       "      <td>{'headline': 'Chris Basham says record low fea...</td>\n",
       "      <td>False</td>\n",
       "      <td>pillar/sport</td>\n",
       "      <td>Sport</td>\n",
       "    </tr>\n",
       "    <tr>\n",
       "      <th>3</th>\n",
       "      <td>business/2021/jan/01/covid-measures-labour-uni...</td>\n",
       "      <td>article</td>\n",
       "      <td>business</td>\n",
       "      <td>Business</td>\n",
       "      <td>2021-01-01T22:30:21Z</td>\n",
       "      <td>Extend Covid measures or households face 'clif...</td>\n",
       "      <td>https://www.theguardian.com/business/2021/jan/...</td>\n",
       "      <td>https://content.guardianapis.com/business/2021...</td>\n",
       "      <td>{'headline': 'Extend Covid measures or househo...</td>\n",
       "      <td>False</td>\n",
       "      <td>pillar/news</td>\n",
       "      <td>News</td>\n",
       "    </tr>\n",
       "    <tr>\n",
       "      <th>4</th>\n",
       "      <td>football/2021/jan/01/bruno-fernandes-fires-man...</td>\n",
       "      <td>article</td>\n",
       "      <td>football</td>\n",
       "      <td>Football</td>\n",
       "      <td>2021-01-01T22:05:08Z</td>\n",
       "      <td>Manchester United go joint top after Fernandes...</td>\n",
       "      <td>https://www.theguardian.com/football/2021/jan/...</td>\n",
       "      <td>https://content.guardianapis.com/football/2021...</td>\n",
       "      <td>{'headline': 'Manchester United go joint top a...</td>\n",
       "      <td>False</td>\n",
       "      <td>pillar/sport</td>\n",
       "      <td>Sport</td>\n",
       "    </tr>\n",
       "    <tr>\n",
       "      <th>...</th>\n",
       "      <td>...</td>\n",
       "      <td>...</td>\n",
       "      <td>...</td>\n",
       "      <td>...</td>\n",
       "      <td>...</td>\n",
       "      <td>...</td>\n",
       "      <td>...</td>\n",
       "      <td>...</td>\n",
       "      <td>...</td>\n",
       "      <td>...</td>\n",
       "      <td>...</td>\n",
       "      <td>...</td>\n",
       "    </tr>\n",
       "    <tr>\n",
       "      <th>1792</th>\n",
       "      <td>crosswords/2021/jan/10/azed-crossword-2535</td>\n",
       "      <td>article</td>\n",
       "      <td>crosswords</td>\n",
       "      <td>Crosswords</td>\n",
       "      <td>2021-01-10T00:01:35Z</td>\n",
       "      <td>Azed crossword 2,535</td>\n",
       "      <td>https://www.theguardian.com/crosswords/2021/ja...</td>\n",
       "      <td>https://content.guardianapis.com/crosswords/20...</td>\n",
       "      <td>{'headline': 'Azed crossword 2,535', 'trailTex...</td>\n",
       "      <td>False</td>\n",
       "      <td>pillar/lifestyle</td>\n",
       "      <td>Lifestyle</td>\n",
       "    </tr>\n",
       "    <tr>\n",
       "      <th>1793</th>\n",
       "      <td>lifeandstyle/2021/jan/10/observer-killer-sudoku</td>\n",
       "      <td>article</td>\n",
       "      <td>lifeandstyle</td>\n",
       "      <td>Life and style</td>\n",
       "      <td>2021-01-10T00:01:35Z</td>\n",
       "      <td>Observer killer sudoku</td>\n",
       "      <td>https://www.theguardian.com/lifeandstyle/2021/...</td>\n",
       "      <td>https://content.guardianapis.com/lifeandstyle/...</td>\n",
       "      <td>{'headline': 'Observer killer sudoku', 'trailT...</td>\n",
       "      <td>False</td>\n",
       "      <td>pillar/lifestyle</td>\n",
       "      <td>Lifestyle</td>\n",
       "    </tr>\n",
       "    <tr>\n",
       "      <th>1794</th>\n",
       "      <td>lifeandstyle/2021/jan/10/observer-sudoku</td>\n",
       "      <td>article</td>\n",
       "      <td>lifeandstyle</td>\n",
       "      <td>Life and style</td>\n",
       "      <td>2021-01-10T00:01:35Z</td>\n",
       "      <td>Observer sudoku</td>\n",
       "      <td>https://www.theguardian.com/lifeandstyle/2021/...</td>\n",
       "      <td>https://content.guardianapis.com/lifeandstyle/...</td>\n",
       "      <td>{'headline': 'Observer sudoku', 'trailText': '...</td>\n",
       "      <td>False</td>\n",
       "      <td>pillar/lifestyle</td>\n",
       "      <td>Lifestyle</td>\n",
       "    </tr>\n",
       "    <tr>\n",
       "      <th>1795</th>\n",
       "      <td>crosswords/everyman/3874</td>\n",
       "      <td>crossword</td>\n",
       "      <td>crosswords</td>\n",
       "      <td>Crosswords</td>\n",
       "      <td>2021-01-10T00:00:35Z</td>\n",
       "      <td>Everyman crossword No 3,874</td>\n",
       "      <td>https://www.theguardian.com/crosswords/everyma...</td>\n",
       "      <td>https://content.guardianapis.com/crosswords/ev...</td>\n",
       "      <td>{'headline': 'Everyman crossword No 3,874', 't...</td>\n",
       "      <td>False</td>\n",
       "      <td>pillar/lifestyle</td>\n",
       "      <td>Lifestyle</td>\n",
       "    </tr>\n",
       "    <tr>\n",
       "      <th>1796</th>\n",
       "      <td>crosswords/speedy/1319</td>\n",
       "      <td>crossword</td>\n",
       "      <td>crosswords</td>\n",
       "      <td>Crosswords</td>\n",
       "      <td>2021-01-10T00:00:35Z</td>\n",
       "      <td>Speedy crossword No 1,319</td>\n",
       "      <td>https://www.theguardian.com/crosswords/speedy/...</td>\n",
       "      <td>https://content.guardianapis.com/crosswords/sp...</td>\n",
       "      <td>{'headline': 'Speedy crossword No 1,319', 'tra...</td>\n",
       "      <td>False</td>\n",
       "      <td>pillar/lifestyle</td>\n",
       "      <td>Lifestyle</td>\n",
       "    </tr>\n",
       "  </tbody>\n",
       "</table>\n",
       "<p>1797 rows × 12 columns</p>\n",
       "</div>"
      ],
      "text/plain": [
       "                                                     id       type  \\\n",
       "0     football/live/2021/jan/01/manchester-united-v-...   liveblog   \n",
       "1     football/2021/jan/01/manchester-united-must-im...    article   \n",
       "2     football/2021/jan/01/chris-basham-sheffield-un...    article   \n",
       "3     business/2021/jan/01/covid-measures-labour-uni...    article   \n",
       "4     football/2021/jan/01/bruno-fernandes-fires-man...    article   \n",
       "...                                                 ...        ...   \n",
       "1792         crosswords/2021/jan/10/azed-crossword-2535    article   \n",
       "1793    lifeandstyle/2021/jan/10/observer-killer-sudoku    article   \n",
       "1794           lifeandstyle/2021/jan/10/observer-sudoku    article   \n",
       "1795                           crosswords/everyman/3874  crossword   \n",
       "1796                             crosswords/speedy/1319  crossword   \n",
       "\n",
       "         sectionId     sectionName    webPublicationDate  \\\n",
       "0         football        Football  2021-01-01T23:30:38Z   \n",
       "1         football        Football  2021-01-01T23:16:24Z   \n",
       "2         football        Football  2021-01-01T22:30:21Z   \n",
       "3         business        Business  2021-01-01T22:30:21Z   \n",
       "4         football        Football  2021-01-01T22:05:08Z   \n",
       "...            ...             ...                   ...   \n",
       "1792    crosswords      Crosswords  2021-01-10T00:01:35Z   \n",
       "1793  lifeandstyle  Life and style  2021-01-10T00:01:35Z   \n",
       "1794  lifeandstyle  Life and style  2021-01-10T00:01:35Z   \n",
       "1795    crosswords      Crosswords  2021-01-10T00:00:35Z   \n",
       "1796    crosswords      Crosswords  2021-01-10T00:00:35Z   \n",
       "\n",
       "                                               webTitle  \\\n",
       "0     Manchester United v Aston Villa: Premier Leagu...   \n",
       "1     Manchester United must improve to challenge fo...   \n",
       "2     Chris Basham says record low fear can spur She...   \n",
       "3     Extend Covid measures or households face 'clif...   \n",
       "4     Manchester United go joint top after Fernandes...   \n",
       "...                                                 ...   \n",
       "1792                               Azed crossword 2,535   \n",
       "1793                             Observer killer sudoku   \n",
       "1794                                    Observer sudoku   \n",
       "1795                        Everyman crossword No 3,874   \n",
       "1796                          Speedy crossword No 1,319   \n",
       "\n",
       "                                                 webUrl  \\\n",
       "0     https://www.theguardian.com/football/live/2021...   \n",
       "1     https://www.theguardian.com/football/2021/jan/...   \n",
       "2     https://www.theguardian.com/football/2021/jan/...   \n",
       "3     https://www.theguardian.com/business/2021/jan/...   \n",
       "4     https://www.theguardian.com/football/2021/jan/...   \n",
       "...                                                 ...   \n",
       "1792  https://www.theguardian.com/crosswords/2021/ja...   \n",
       "1793  https://www.theguardian.com/lifeandstyle/2021/...   \n",
       "1794  https://www.theguardian.com/lifeandstyle/2021/...   \n",
       "1795  https://www.theguardian.com/crosswords/everyma...   \n",
       "1796  https://www.theguardian.com/crosswords/speedy/...   \n",
       "\n",
       "                                                 apiUrl  \\\n",
       "0     https://content.guardianapis.com/football/live...   \n",
       "1     https://content.guardianapis.com/football/2021...   \n",
       "2     https://content.guardianapis.com/football/2021...   \n",
       "3     https://content.guardianapis.com/business/2021...   \n",
       "4     https://content.guardianapis.com/football/2021...   \n",
       "...                                                 ...   \n",
       "1792  https://content.guardianapis.com/crosswords/20...   \n",
       "1793  https://content.guardianapis.com/lifeandstyle/...   \n",
       "1794  https://content.guardianapis.com/lifeandstyle/...   \n",
       "1795  https://content.guardianapis.com/crosswords/ev...   \n",
       "1796  https://content.guardianapis.com/crosswords/sp...   \n",
       "\n",
       "                                                 fields  isHosted  \\\n",
       "0     {'headline': 'Manchester United v Aston Villa:...     False   \n",
       "1     {'headline': 'Manchester United must improve t...     False   \n",
       "2     {'headline': 'Chris Basham says record low fea...     False   \n",
       "3     {'headline': 'Extend Covid measures or househo...     False   \n",
       "4     {'headline': 'Manchester United go joint top a...     False   \n",
       "...                                                 ...       ...   \n",
       "1792  {'headline': 'Azed crossword 2,535', 'trailTex...     False   \n",
       "1793  {'headline': 'Observer killer sudoku', 'trailT...     False   \n",
       "1794  {'headline': 'Observer sudoku', 'trailText': '...     False   \n",
       "1795  {'headline': 'Everyman crossword No 3,874', 't...     False   \n",
       "1796  {'headline': 'Speedy crossword No 1,319', 'tra...     False   \n",
       "\n",
       "              pillarId pillarName  \n",
       "0         pillar/sport      Sport  \n",
       "1         pillar/sport      Sport  \n",
       "2         pillar/sport      Sport  \n",
       "3          pillar/news       News  \n",
       "4         pillar/sport      Sport  \n",
       "...                ...        ...  \n",
       "1792  pillar/lifestyle  Lifestyle  \n",
       "1793  pillar/lifestyle  Lifestyle  \n",
       "1794  pillar/lifestyle  Lifestyle  \n",
       "1795  pillar/lifestyle  Lifestyle  \n",
       "1796  pillar/lifestyle  Lifestyle  \n",
       "\n",
       "[1797 rows x 12 columns]"
      ]
     },
     "execution_count": 9,
     "metadata": {},
     "output_type": "execute_result"
    }
   ],
   "source": [
    "concatenated_df"
   ]
  },
  {
   "cell_type": "code",
   "execution_count": 10,
   "metadata": {},
   "outputs": [
    {
     "name": "stdout",
     "output_type": "stream",
     "text": [
      " PillarName column has 6 unique values: ['Sport' 'News' 'Arts' 'Lifestyle' 'Opinion' nan]\n"
     ]
    }
   ],
   "source": [
    "print(f' PillarName column has {len(concatenated_df.pillarName.unique())} unique values: {concatenated_df.pillarName.unique()}')"
   ]
  },
  {
   "cell_type": "code",
   "execution_count": 11,
   "metadata": {},
   "outputs": [
    {
     "name": "stdout",
     "output_type": "stream",
     "text": [
      " PillarName column has 78 unique values: ['Football' 'Business' 'Television & radio' 'Sport' 'US news' 'World news'\n",
      " 'Australia news' 'Life and style' 'Opinion' 'Environment' 'Inequality'\n",
      " 'Music' 'Politics' 'Education' 'UK news' 'Books' 'Art and design'\n",
      " 'Society' 'Film' 'Food' 'Fashion' 'Crosswords' 'Stage'\n",
      " 'Global development' 'Travel' 'Culture' 'Media' 'Global' 'Membership'\n",
      " 'Money' 'News' 'Technology' 'Science' 'From the Observer' 'Info' 'Games'\n",
      " 'Law' 'Animals farmed' 'From the Guardian' 'All together'\n",
      " 'GNM press office' 'Dairy Australia: Green solutions'\n",
      " 'Guardian US press office' 'BritBox: Best of Brit TV'\n",
      " 'Bank Australia: Collective good' 'American Express: Business class'\n",
      " \"Let's live clean\" 'Guardian Masterclasses' 'Weather'\n",
      " '100 teachers, 100 passions, 100 ways to shape lives'\n",
      " 'Educating tomorrow'\n",
      " 'The University of Melbourne: Graduating Performances'\n",
      " 'Victoria University: Inspiring futures' 'Getting back on track'\n",
      " 'Disney+ WandaVision' 'Re-engineering education' 'Belvoir: Stop Girl'\n",
      " 'Guardian Careers' 'Destination NSW: Road Trips'\n",
      " 'Sydney Olympic Park: Come play' 'Cardiff' 'Find your French adventure'\n",
      " 'With you all the way' 'State Library Victoria: Reward your curiosity'\n",
      " 'Backing our communities' 'About' 'Powershop: Power potential'\n",
      " 'Brother: Doing business well' 'Brighter mornings'\n",
      " 'Felix Mobile: The only one' 'Bank Australia: People Australia Needs'\n",
      " 'Focus' 'Greener grapes' 'British cider time' 'Safeguarding our planet'\n",
      " 'Blue cheese every day' 'My Northern Ireland'\n",
      " 'Technology at PwC: Our human story']\n"
     ]
    }
   ],
   "source": [
    "print(f' SectionName column has {len(concatenated_df.sectionName.unique())} unique values: {concatenated_df.sectionName.unique()}')"
   ]
  },
  {
   "cell_type": "code",
   "execution_count": 11,
   "metadata": {},
   "outputs": [
    {
     "data": {
      "text/plain": [
       "News         926\n",
       "Sport        267\n",
       "Arts         261\n",
       "Lifestyle    193\n",
       "Opinion      146\n",
       "Name: pillarName, dtype: int64"
      ]
     },
     "execution_count": 11,
     "metadata": {},
     "output_type": "execute_result"
    }
   ],
   "source": [
    "concatenated_df.pillarName.value_counts()"
   ]
  },
  {
   "cell_type": "code",
   "execution_count": 13,
   "metadata": {},
   "outputs": [
    {
     "data": {
      "text/plain": [
       "World news                         2501\n",
       "Football                           1523\n",
       "Opinion                            1369\n",
       "Sport                              1302\n",
       "US news                            1293\n",
       "                                   ... \n",
       "Felix Mobile: The only one            1\n",
       "My Northern Ireland                   1\n",
       "Bank Australia: Collective good       1\n",
       "Safeguarding our planet               1\n",
       "Focus                                 1\n",
       "Name: sectionName, Length: 78, dtype: int64"
      ]
     },
     "execution_count": 13,
     "metadata": {},
     "output_type": "execute_result"
    }
   ],
   "source": [
    "concatenated_df.sectionName.value_counts()"
   ]
  },
  {
   "cell_type": "code",
   "execution_count": 12,
   "metadata": {},
   "outputs": [
    {
     "data": {
      "text/plain": [
       "id                    0\n",
       "type                  0\n",
       "sectionId             0\n",
       "sectionName           0\n",
       "webPublicationDate    0\n",
       "webTitle              0\n",
       "webUrl                0\n",
       "apiUrl                0\n",
       "fields                0\n",
       "isHosted              0\n",
       "pillarId              4\n",
       "pillarName            4\n",
       "dtype: int64"
      ]
     },
     "execution_count": 12,
     "metadata": {},
     "output_type": "execute_result"
    }
   ],
   "source": [
    "concatenated_df.isnull().sum()"
   ]
  },
  {
   "cell_type": "code",
   "execution_count": 13,
   "metadata": {},
   "outputs": [
    {
     "data": {
      "text/html": [
       "<div>\n",
       "<style scoped>\n",
       "    .dataframe tbody tr th:only-of-type {\n",
       "        vertical-align: middle;\n",
       "    }\n",
       "\n",
       "    .dataframe tbody tr th {\n",
       "        vertical-align: top;\n",
       "    }\n",
       "\n",
       "    .dataframe thead th {\n",
       "        text-align: right;\n",
       "    }\n",
       "</style>\n",
       "<table border=\"1\" class=\"dataframe\">\n",
       "  <thead>\n",
       "    <tr style=\"text-align: right;\">\n",
       "      <th></th>\n",
       "      <th>id</th>\n",
       "      <th>type</th>\n",
       "      <th>sectionId</th>\n",
       "      <th>sectionName</th>\n",
       "      <th>webPublicationDate</th>\n",
       "      <th>webTitle</th>\n",
       "      <th>webUrl</th>\n",
       "      <th>apiUrl</th>\n",
       "      <th>fields</th>\n",
       "      <th>isHosted</th>\n",
       "      <th>pillarId</th>\n",
       "      <th>pillarName</th>\n",
       "    </tr>\n",
       "  </thead>\n",
       "  <tbody>\n",
       "    <tr>\n",
       "      <th>1792</th>\n",
       "      <td>crosswords/2021/jan/10/azed-crossword-2535</td>\n",
       "      <td>article</td>\n",
       "      <td>crosswords</td>\n",
       "      <td>Crosswords</td>\n",
       "      <td>2021-01-10T00:01:35Z</td>\n",
       "      <td>Azed crossword 2,535</td>\n",
       "      <td>https://www.theguardian.com/crosswords/2021/ja...</td>\n",
       "      <td>https://content.guardianapis.com/crosswords/20...</td>\n",
       "      <td>{'headline': 'Azed crossword 2,535', 'trailTex...</td>\n",
       "      <td>False</td>\n",
       "      <td>pillar/lifestyle</td>\n",
       "      <td>Lifestyle</td>\n",
       "    </tr>\n",
       "    <tr>\n",
       "      <th>1793</th>\n",
       "      <td>lifeandstyle/2021/jan/10/observer-killer-sudoku</td>\n",
       "      <td>article</td>\n",
       "      <td>lifeandstyle</td>\n",
       "      <td>Life and style</td>\n",
       "      <td>2021-01-10T00:01:35Z</td>\n",
       "      <td>Observer killer sudoku</td>\n",
       "      <td>https://www.theguardian.com/lifeandstyle/2021/...</td>\n",
       "      <td>https://content.guardianapis.com/lifeandstyle/...</td>\n",
       "      <td>{'headline': 'Observer killer sudoku', 'trailT...</td>\n",
       "      <td>False</td>\n",
       "      <td>pillar/lifestyle</td>\n",
       "      <td>Lifestyle</td>\n",
       "    </tr>\n",
       "    <tr>\n",
       "      <th>1794</th>\n",
       "      <td>lifeandstyle/2021/jan/10/observer-sudoku</td>\n",
       "      <td>article</td>\n",
       "      <td>lifeandstyle</td>\n",
       "      <td>Life and style</td>\n",
       "      <td>2021-01-10T00:01:35Z</td>\n",
       "      <td>Observer sudoku</td>\n",
       "      <td>https://www.theguardian.com/lifeandstyle/2021/...</td>\n",
       "      <td>https://content.guardianapis.com/lifeandstyle/...</td>\n",
       "      <td>{'headline': 'Observer sudoku', 'trailText': '...</td>\n",
       "      <td>False</td>\n",
       "      <td>pillar/lifestyle</td>\n",
       "      <td>Lifestyle</td>\n",
       "    </tr>\n",
       "    <tr>\n",
       "      <th>1795</th>\n",
       "      <td>crosswords/everyman/3874</td>\n",
       "      <td>crossword</td>\n",
       "      <td>crosswords</td>\n",
       "      <td>Crosswords</td>\n",
       "      <td>2021-01-10T00:00:35Z</td>\n",
       "      <td>Everyman crossword No 3,874</td>\n",
       "      <td>https://www.theguardian.com/crosswords/everyma...</td>\n",
       "      <td>https://content.guardianapis.com/crosswords/ev...</td>\n",
       "      <td>{'headline': 'Everyman crossword No 3,874', 't...</td>\n",
       "      <td>False</td>\n",
       "      <td>pillar/lifestyle</td>\n",
       "      <td>Lifestyle</td>\n",
       "    </tr>\n",
       "    <tr>\n",
       "      <th>1796</th>\n",
       "      <td>crosswords/speedy/1319</td>\n",
       "      <td>crossword</td>\n",
       "      <td>crosswords</td>\n",
       "      <td>Crosswords</td>\n",
       "      <td>2021-01-10T00:00:35Z</td>\n",
       "      <td>Speedy crossword No 1,319</td>\n",
       "      <td>https://www.theguardian.com/crosswords/speedy/...</td>\n",
       "      <td>https://content.guardianapis.com/crosswords/sp...</td>\n",
       "      <td>{'headline': 'Speedy crossword No 1,319', 'tra...</td>\n",
       "      <td>False</td>\n",
       "      <td>pillar/lifestyle</td>\n",
       "      <td>Lifestyle</td>\n",
       "    </tr>\n",
       "  </tbody>\n",
       "</table>\n",
       "</div>"
      ],
      "text/plain": [
       "                                                   id       type  \\\n",
       "1792       crosswords/2021/jan/10/azed-crossword-2535    article   \n",
       "1793  lifeandstyle/2021/jan/10/observer-killer-sudoku    article   \n",
       "1794         lifeandstyle/2021/jan/10/observer-sudoku    article   \n",
       "1795                         crosswords/everyman/3874  crossword   \n",
       "1796                           crosswords/speedy/1319  crossword   \n",
       "\n",
       "         sectionId     sectionName    webPublicationDate  \\\n",
       "1792    crosswords      Crosswords  2021-01-10T00:01:35Z   \n",
       "1793  lifeandstyle  Life and style  2021-01-10T00:01:35Z   \n",
       "1794  lifeandstyle  Life and style  2021-01-10T00:01:35Z   \n",
       "1795    crosswords      Crosswords  2021-01-10T00:00:35Z   \n",
       "1796    crosswords      Crosswords  2021-01-10T00:00:35Z   \n",
       "\n",
       "                         webTitle  \\\n",
       "1792         Azed crossword 2,535   \n",
       "1793       Observer killer sudoku   \n",
       "1794              Observer sudoku   \n",
       "1795  Everyman crossword No 3,874   \n",
       "1796    Speedy crossword No 1,319   \n",
       "\n",
       "                                                 webUrl  \\\n",
       "1792  https://www.theguardian.com/crosswords/2021/ja...   \n",
       "1793  https://www.theguardian.com/lifeandstyle/2021/...   \n",
       "1794  https://www.theguardian.com/lifeandstyle/2021/...   \n",
       "1795  https://www.theguardian.com/crosswords/everyma...   \n",
       "1796  https://www.theguardian.com/crosswords/speedy/...   \n",
       "\n",
       "                                                 apiUrl  \\\n",
       "1792  https://content.guardianapis.com/crosswords/20...   \n",
       "1793  https://content.guardianapis.com/lifeandstyle/...   \n",
       "1794  https://content.guardianapis.com/lifeandstyle/...   \n",
       "1795  https://content.guardianapis.com/crosswords/ev...   \n",
       "1796  https://content.guardianapis.com/crosswords/sp...   \n",
       "\n",
       "                                                 fields  isHosted  \\\n",
       "1792  {'headline': 'Azed crossword 2,535', 'trailTex...     False   \n",
       "1793  {'headline': 'Observer killer sudoku', 'trailT...     False   \n",
       "1794  {'headline': 'Observer sudoku', 'trailText': '...     False   \n",
       "1795  {'headline': 'Everyman crossword No 3,874', 't...     False   \n",
       "1796  {'headline': 'Speedy crossword No 1,319', 'tra...     False   \n",
       "\n",
       "              pillarId pillarName  \n",
       "1792  pillar/lifestyle  Lifestyle  \n",
       "1793  pillar/lifestyle  Lifestyle  \n",
       "1794  pillar/lifestyle  Lifestyle  \n",
       "1795  pillar/lifestyle  Lifestyle  \n",
       "1796  pillar/lifestyle  Lifestyle  "
      ]
     },
     "execution_count": 13,
     "metadata": {},
     "output_type": "execute_result"
    }
   ],
   "source": [
    "concatenated_df.dropna(axis=0, inplace=True)\n",
    "concatenated_df.tail()"
   ]
  },
  {
   "cell_type": "code",
   "execution_count": 16,
   "metadata": {},
   "outputs": [
    {
     "data": {
      "text/plain": [
       "<AxesSubplot:ylabel='pillarName'>"
      ]
     },
     "execution_count": 16,
     "metadata": {},
     "output_type": "execute_result"
    },
    {
     "data": {
      "image/png": "[encoded data removed]",
      "text/plain": [
       "<Figure size 432x288 with 1 Axes>"
      ]
     },
     "metadata": {},
     "output_type": "display_data"
    }
   ],
   "source": [
    "#plt.rcParams[\"figure.figsize\"] = (10,10)\n",
    "colors = ['#ff9999','#66b3ff','#99ff99','#ffcc99']\n",
    "concatenated_df.pillarName.value_counts().plot.pie(autopct='%1.0f%%', colors=colors)"
   ]
  },
  {
   "cell_type": "code",
   "execution_count": 17,
   "metadata": {},
   "outputs": [
    {
     "data": {
      "text/plain": [
       "0"
      ]
     },
     "execution_count": 17,
     "metadata": {},
     "output_type": "execute_result"
    }
   ],
   "source": [
    "concatenated_df.isnull().sum().sum()"
   ]
  },
  {
   "cell_type": "code",
   "execution_count": 18,
   "metadata": {},
   "outputs": [
    {
     "name": "stdout",
     "output_type": "stream",
     "text": [
      "“First half we were miles off it,” he tells Sky Sports. “First 15 minutes felt like a testimonial. Then they injected some pace into it and deservedly went ahead. “I asked for more at half-time and we deserved to get back in the game. Our goalkeeper has had to make some good saves but they were all from outside the box. On Manchester United’s penalty: “I thought it was a penalty at the time, but I looked at it after the game and saw he tripped himself. I don’t see why Michael Oliver couldn’t have looked at it. That’s what VAR is for isn’t it? He’s tripped himself up. There’s margins in football. I’ve seen it again, and I don’t think it’s a penalty. “We know we’re on a good journey at the moment. We believe we’ve got five key arrivals to go with the players who are Premier League ready now. “This is only our second season in the division, but competing here and against Liverpool and Arsenal shows our journey is going well so far.” Premier League: Jamie Jackson was at Old Trafford to see Manchester United win an exciting game by the odd goal of three and go level on points with league leaders Liverpool. Aaron Wan-Bissaka speaks: “That win shows how much work we’re putting in, how much of a performance that was,” he tells Sky Sports reporter Geoff Shreeves. On his cross for Anthony Martial’s opener: “I could just hear voices - back post, front post,” he said. “I just went with the front post and put it there.” On his culpability for Aston Villa’s equaliser: “They played a quick free-kick,” he says. “It’s unfortunate, but as you can see, we hit back. The win means a lot, it shows where we’ve come from, from the start of the season. We’re just taking it game by game. It was a late start for us, we were in catch-up mode, but we’re here now. No excuses.” Manchester United, who travel to Liverpool on 17 January, began the game well, before Villa wrestled control from them after about 20 minutes. A very entertaining game see-sawed, with Anthony Martial giving United the lead by catching three Villa defenders napping as he converted an Aaron Wan-Bissaka cross. Bertrand Traore restored parirty in a helter-skelter second half, as Villa capitalised on some Aaron Wan-Bissaka naivety at a free-kick, before United restored their lead soon after. Bruno Fernandes slotted home from the spot after Douglas Luiz tripped Paul Pogba in the penalty area. Peep! Peep! Peeeeeeep! It’s all over at Old Trafford, where Manchester United have beaten Aston Villa by the odd goal of three to go level on points with Liverpool at the top of the Premier League table. 90+5 min: Rashford embarks on a counter-attack but runs for the corner. He plays the ball inside to Pogba, who is more reluctant to run the clock down. He gives the ball back to Villa who get forward one last time, but to no avail. 90+4 min: United finally get to clear their lines, when Watkins is unable to reach a cross. United substitution: Axel Tuanzebe on for Fred. 90+3 min: From that set piece, Cash is teed up for a rising shot from distance, which De Gea puts out for a third corner in quick succession. 90+2 min: Villa win a corner after good work down the right from McGinn and Cash. Grealish’s delivery is put behind for another corner by Dan James. 90 min: Matic gets booked for a foul on Grealish. We’ll have five minutes of added time. 89 min: Rashford rampages forward with Villa’s defence backing off. He plays the ball wide – ac little too wide – to Dan James and the substitute’s cross come shot fails to trouble Martinez. 89 min: Luke Shaw is booked for a foul on Douglas Luiz. 88 min: James is straight into action, his low shot hitting traffic on its way through to the warm embrace of Emiliano Martinez. 86 min: Man Utd substitution: Dan James on for Bruno Fernandes. The Portuguese midfielder, who has been outstanding, looks very displeased by his withdrawal from the action. 86 min: Matic fouls Cash just down by the technical areas and is perhaps lucky to escape a caution. 84 min: Villa substitution: Keinan Davis on for Anwar El-Ghazi. 82 min: Villa win a free-kick in a wide area after El Ghazi is blocked illegally by Shaw. Matty Cash curls a cross to the far post, where Mings heads narrowly wide. It was a fantastic cross and a brilliant scoring opportunity, but the defender headed wide with plenty of goal to aim at. 81 min: Man Utd substitution I missed earlier while in a Chris Kamara-esque reverie: Nemanja Matic on for Scott McTominay. 79 min: El Ghazi switches wings, presumably to give Matty Cash a dig-out, as he’s being given the run-around by Luke Shaw. 79 min: Villa substitution: Jacob Ramsey on for Bertrand Traore. 78 min: From this corner, the ball is cleared to Rashford. He sends an good effort fizzing just over the angle of post and crossbar. 77 min: The corner is cleared but only as far as Fernandes outside the area. He advances before sending a dipping shot goalwards. Martinez paws it over for a corner. 76 min: Luke Shaw drills another cross from the left towards the near post. Ezra Konsa intercepts to put it out for a corner. 75 min: Another curled Grealish cross for Watkins, who outjumps Bailly but skims his header wide of the upright from five yards out. 73 min: A loose pass from Cash is pounced on by Shaw, who gallops down the left unopposed. He combines with Martial before crossing for Pogba, who shoots low, hard and wide of the upright when scoring looked easier. 72 min: After good foraging work for Traore, El Ghazi shoots low and hard from distance, forcing David De Gea to dive low to his right and save. This is very entertaining stuff. 69 min: Matty Cash comes perilously close to giving away a penalty, getting in a tangle with Luke Shaw on the edge of his own area as the Manchester United full-back beat him for pace down his inside. Referee Michael Oliver sees no foul and neither, apparently, does his VAR Paul Tierney. 67 min: Bissaka goes some towards redeeming himself, taking an inch-perfect cross from the outstanding Grealish off El-Ghazi’s head when the Villa man looked certain to score at the far post. 64 min: Going back to the Villa equaliser, it was Aaron Wan-Bissaka who was guilty of tomfoolery, electing to try – and fail – to stop John McGinn taking a quick free-kick towards Jack Grealish, rather than getting back into position to help his team defend the dead ball. There was a giant hole for Grealish to run into, exactly where Bissaka should have been. 63 min: There was a pause for a VAR check before that penalty was taken but it was never going to be overturned. United retake the lead! Fernandes arrows the ball into the bottom left-hand corner. Martinez guessed the right way, but didn’t get a finger to the ball. Douglas Luiz is penalised after a tangle of legs with Paul Pogba when the Manchester United midfielder had got wrong side of him on the edge of the Villa penalty area. Villa equalise. Bertrand Traore fires home low and hard from about six yards, contrrolling and then converting a Jack Grealish cross from the left as Manchester United’s defence fell asleep at a free kick. 55 min: Eric Bailly gets booked for a late challenge on somebody or other. 54 min: Anwar El-Ghazi fires narrowly wide from distance after being picked out by Jack Grealish with a ball played from right to left. 53 min: Tyrone Mings is forced to head away from his own goal after twisting in mid-air to connect with a Luke Shaw cross. 52 min: Ollie Watkins brings a good save out of De Gea, stretching every sinew to steer a Grealish cross goalwards with his forehead, forcing the Manchester United goalkeeper to tip the ball over the bar. Nothing comes from the corner. 50 min: Lovely play from Bernard Traore after picking up a wonderful crossfield ball from McGinn. He picks out Grealish on the overlap with a backheel but his cross is too high. 50 min: Marcus Rashford does Matty Cash for speed down the left and drills the ball towards the near post. Emiliano Martinez is on hand to block. 48 min: Michael Oliver shows his first yellow card of the game and Harry Maguire is the recipient. He can’t complain, having shoved Grealish off the ball in instalments. 47 min: Good tracking back by Martial, who puts a stop to a Matty Cash gallop down the left, forcing the Villa full-back to play the ball backwards. 46 min: Harry Maguire clips a free-kick from just inside his own half wide in the direction of Fernandes. He proceeds to lose possession. 46 min: Play resumes at Old Trafford, with no changes in personnel on either side. If United can hang on for the win, they’ll go level on points with League leaders Liverpool. A word on Ross Barkley: The midfielder was expected to feature for Villa tonight but it seems he hasn’t fully recovered from his injury. Apologies for the slightly confusing photo I posted earlier, which shows him training before a previous game. Liverpool’s highly decorated captain gets a grilling from Donald McRae, one of the best interviewers in the business. Read on ... Premier League: Spare a thought for Andy Hunter, who had to chisel out 1,000 or so words on one of the most dreary Premier League games ever played earlyier this evening. Here’s how he got on ... Peep! Man United win a corner but there’s no time to take it. Michael Oliver blows his whistle to bring an entertaining first half to a close. Anthony Martial’s header separates the sides. 45 min: Fred plays the ball wide to Shaw, who tries to pick out Martial. Matty Cash clears. 43 min: Villa corner. Bernard Traore swings the ball outwards but it’s headed clear by Pogba, who is having one of his better games in a United shirt. Anthony Martial stoops to conquer between three Villa defenders, powering home a header from the edge of the six yard box after getting on the end of an Aaron Wan-Bissake cross from the right. He had no business scoring there, with three defenders between him and the goal as the ball came in. 38 min: Bruno Fernandes tries his luck from distance, sending the ball flashing wide of the Villa goal. Good effort. 36 min: Eric Bailly swings a petulant hand in the direction of John McGinn’s face as he attempts to grab the ball to take a free-kick. He doesn’t connect and is very lucky - I suspect he’d have been in line for a red card if he’d made contact. 35 min: A Grealish through ball to the edge of the United penalty area is met by Cash, who has to stretch to get a toe on it. United clear. 34 min: Grealish sends the corner kick deep, where it’s met by Ezri Konsa, who sends a looping header towards the edge of the six-yard box. United clear. 33 min: Luke Shaw puts a Matt Targett cross from the left out for a Villa corner. 31 min: Nursing a cut lip, Pogba leaves the field of play after receiving medical attention, before returning immediately. 30 min: Matt Targett heads clear at the near post, contesting the corner kick with Pogba behind him. The Frenchman goes down injured, holding his face - Mings, it was, who caught him with an arm to the the head. 28 min: Tyrone Mings boots a Fernandes cross clear as Manchester United start to reassert their authority. Paul Pogba fails to pick out Martial with a cross but does win his side a corner. 25 min: Nothing comes from the corner but Villa are getting more and more confident. Paul Pogba reminds them they’re in a game on somebody else’s turf, shooting over from the edge of the box after receiving a pass from Rashford. 23 min: More good play from Villa who are visibly growing into the game. McGinn, Grealish, Cash and McGinn combine beautifully with some crisp, neat passing before Eric Bailly is forced to dive in at the near post to prevent Ollie Watkins connecting with a cross from deep. Corner for Villa. 22 min: El Ghazi runs on to a Grealish pass down the left and squares the ball. It’s blocked and cleared. 21 min: A little period of sustained possession for Villa, which abruptly ends by the time I type that comma. They’ve definitely got more of a foothold in this game after a slightly sheepish start. 17 min: Paul Pogba dummies on the edge of the area, allowing Fred to shoot over from further out after connecting with an Aaron Wan-Bissaka cross. The Man United full-back had combined to good effect with Marcus Rashford down the right flank, but Pogba probably should have taken the shot. 15 min: United deal with two Villa corners in quick succession in the wake of that McGinn shot. David De Gea appears to be unhappy with some roughhouse treatment he was getting as the players waited for Jack Grealish to deliver the ball into the penalty area. He complains at length to referee Michael Oliver. 14 min: John McGinn brings an excellent save out of De Gea with an excellent controlled volley towards the bottom left-hand corner. He connected with a cross from Cash, who had given Paul Pogba the slip down the right flank. 14 min: A tip of the hat to the excellent Fernandes, who is already the standpout player in this game. It was he who picked out Martial for that shot on goal, with an excellent pass tyhreaded between defenders. 12 min: Maguire gets his head to that Luke Shaw outswinger, but there isn’t enough pace on the ball for his effort to trouble Martinez. 11 min: Martial spanks the ball goalwards from the edge of the Villa penalty area, but Martinez is equal to his goalbound shot. He getsa a strong hand to the ball, putting it out for a corner. From that, United win another. 10 min: A curled Fernandes cross from the right is headed clear by Cash. United continue to pressurise their visitors. 9 min: It’s pretty even in these opening minutes, although Manchester Un ited are probably having the better of things and looking a little more assured. 7 min: A low, hard Scott McTominey pass towards the Villa penalty area is miscontrolled by Ezri Konsa. Martial can’t quite capitalise and the Villa defender recovers. 7 min: A Bruno Fernandes cross from the right is deflected towards Martinez off Tyrone Mings. 6 min: Villa play it out from the back, under pressure from United. Moments later, the ball is hoofed long and ends up back with David De Gea at the other end of the pitch. 4 min: A foul by Fred on Jack Grealish earns Villa a free-kick just inside the United half. Moments later, Targett’s cross from the left is cleared by Maguire. 2 min: Fred plays the ball down the inside left for Briuno Fernandes to chase. He rifles a cross into the chest of Emiliano Martinez at the near post and the ball breaks for Pogba, who eschews a shooting opportunity. Early panic stations for Villa following a great pass from Fred. 1 min: Another throw-in, this time for United. Luke Shaw takes this one. 1 min: Manchester United get the ball rolling, with Bruno Fernandes doing the honours. It’s immediately lumped out for a Villa throw-in on the left flank, which Matty Cash takes. A minute’s silence: There’s a pre-kick-off pause to remember the former United and Villa manager, Tommy Docherty, who died a day or two ago. May he rest in peace. Not long now: The teams are out on the pitch, with Aston Villa first out, their players wearing black shirts, black shorts and ... I’m going with “light blue” socks. United follow them, their players wearing their customary home colours: red shirts, white shorts, black socks. Exciting news: We have a Big Interview with the Liverpool captain Jordan Henderson going live imminently, which will be posted here for your half-time reading pleasure. A diabolically dull game of football has come to a merciful end at Goodison Park, where West Ham made off with the points courtesy of a Tomas Soucek stab from the edge of the six-yard box in the 86th minute. Those teams: One change for Villa, for whom Tyrone Mings replaces Kourtney Hause. Manchester United have four changes in personnel. Fred and Scott McTominay return in central midfield, while Luke Shaw and Anthony Martial also start. Manchester United: De Gea, Wan-Bissaka, Bailly, Maguire, Shaw, Fred, McTominay, Pogba, Fernandes, Rashford, Martial Subs: Henderson, Greenwood, Mata, James, Van de Beek, Tuanzebe, Telles, Matic, Lingard Aston Villa: Martinez, Cash, Konsa, Mings, Targett, Luiz, McGinn, Grealish, Traore, El Ghazi, Watkins Subs: Heaton, Taylor, Hourihane, Nakamba, Hause, Guilbert, Elmohamady, Davis, Ramsey Referee: Michael Oliver Assistants: Stuart Burt and Simon Bennett. Fourth official: Darren England. VAR: Paul Tierney. Assistant VAR: Lee Betts. Ross Barkley and Tyrone Mings return from injury and suspension respectively and could go straight into the starting line-up. Having instantly hit his stride with Villa, Barkley has not played since 21 November. Trezeguet remains sidelined with a hamstring injury and has yet to participate in full training since pulling up the day before his side’s game against Wolves in mid-December. Striker Wesley is a long-term absentee and is out indefinitely – today marks a year to the day since he suffered a devastating knee injury playing for his side against Burnley. We wish him well. Victor Lindelof remains sidelined with a back injury, which means Eric Bailly is likely to deputise alongside Harry Maguire in the heart of United’s defence. With Edinson Cavani suspended for three games after using a racial term in an Instagram post, which he swiftly removed and apologised for, Anthony Martial could start up front for United. Scott McTominay and Fred were rested for United’s win over Wolves and could return this evening. Happy New Year and welcome to our minute-by-minute coverage of the action from Old Trafford as Manchester United entertain Aston Villa. Both sides are flying high in the table, with Manchester United second behind Liverpool and Aston Villa scaling the unexpectedly dizzy heights of fifth after 14 games. Kick-off tonight at Old Trafford is at 8pm (GMT). Stay tuned in the meantime for team news and build-up.\n"
     ]
    }
   ],
   "source": [
    "print (concatenated_df['fields'][0]['bodyText'])"
   ]
  },
  {
   "cell_type": "markdown",
   "metadata": {},
   "source": [
    "# Get BodyText from Fields"
   ]
  },
  {
   "cell_type": "code",
   "execution_count": 14,
   "metadata": {},
   "outputs": [],
   "source": [
    "# Create a list to store the data\n",
    "bodyText= []\n",
    "\n",
    "for item in concatenated_df['fields']:\n",
    "    bodyText.append(item.get('bodyText'))\n",
    "    \n",
    "    \n",
    "concatenated_df['bodyText'] = bodyText"
   ]
  },
  {
   "cell_type": "code",
   "execution_count": 20,
   "metadata": {},
   "outputs": [
    {
     "data": {
      "text/plain": [
       "id                    football/live/2021/jan/01/manchester-united-v-...\n",
       "type                                                           liveblog\n",
       "sectionId                                                      football\n",
       "sectionName                                                    Football\n",
       "webPublicationDate                                 2021-01-01T23:30:38Z\n",
       "webTitle              Manchester United v Aston Villa: Premier Leagu...\n",
       "webUrl                https://www.theguardian.com/football/live/2021...\n",
       "apiUrl                https://content.guardianapis.com/football/live...\n",
       "fields                {'headline': 'Manchester United v Aston Villa:...\n",
       "isHosted                                                          False\n",
       "pillarId                                                   pillar/sport\n",
       "pillarName                                                        Sport\n",
       "bodyText              “First half we were miles off it,” he tells Sk...\n",
       "Name: 0, dtype: object"
      ]
     },
     "execution_count": 20,
     "metadata": {},
     "output_type": "execute_result"
    }
   ],
   "source": [
    "concatenated_df.iloc[0]"
   ]
  },
  {
   "cell_type": "code",
   "execution_count": 21,
   "metadata": {},
   "outputs": [
    {
     "data": {
      "text/html": [
       "<div>\n",
       "<style scoped>\n",
       "    .dataframe tbody tr th:only-of-type {\n",
       "        vertical-align: middle;\n",
       "    }\n",
       "\n",
       "    .dataframe tbody tr th {\n",
       "        vertical-align: top;\n",
       "    }\n",
       "\n",
       "    .dataframe thead th {\n",
       "        text-align: right;\n",
       "    }\n",
       "</style>\n",
       "<table border=\"1\" class=\"dataframe\">\n",
       "  <thead>\n",
       "    <tr style=\"text-align: right;\">\n",
       "      <th></th>\n",
       "      <th>id</th>\n",
       "      <th>type</th>\n",
       "      <th>sectionId</th>\n",
       "      <th>sectionName</th>\n",
       "      <th>webPublicationDate</th>\n",
       "      <th>webTitle</th>\n",
       "      <th>webUrl</th>\n",
       "      <th>apiUrl</th>\n",
       "      <th>fields</th>\n",
       "      <th>isHosted</th>\n",
       "      <th>pillarId</th>\n",
       "      <th>pillarName</th>\n",
       "      <th>bodyText</th>\n",
       "    </tr>\n",
       "  </thead>\n",
       "  <tbody>\n",
       "    <tr>\n",
       "      <th>0</th>\n",
       "      <td>football/live/2021/jan/01/manchester-united-v-...</td>\n",
       "      <td>liveblog</td>\n",
       "      <td>football</td>\n",
       "      <td>Football</td>\n",
       "      <td>2021-01-01T23:30:38Z</td>\n",
       "      <td>Manchester United v Aston Villa: Premier Leagu...</td>\n",
       "      <td>https://www.theguardian.com/football/live/2021...</td>\n",
       "      <td>https://content.guardianapis.com/football/live...</td>\n",
       "      <td>{'headline': 'Manchester United v Aston Villa:...</td>\n",
       "      <td>False</td>\n",
       "      <td>pillar/sport</td>\n",
       "      <td>Sport</td>\n",
       "      <td>“First half we were miles off it,” he tells Sk...</td>\n",
       "    </tr>\n",
       "    <tr>\n",
       "      <th>1</th>\n",
       "      <td>football/2021/jan/01/manchester-united-must-im...</td>\n",
       "      <td>article</td>\n",
       "      <td>football</td>\n",
       "      <td>Football</td>\n",
       "      <td>2021-01-01T23:16:24Z</td>\n",
       "      <td>Manchester United must improve to challenge fo...</td>\n",
       "      <td>https://www.theguardian.com/football/2021/jan/...</td>\n",
       "      <td>https://content.guardianapis.com/football/2021...</td>\n",
       "      <td>{'headline': 'Manchester United must improve t...</td>\n",
       "      <td>False</td>\n",
       "      <td>pillar/sport</td>\n",
       "      <td>Sport</td>\n",
       "      <td>Ole Gunnar Solskjær praised Manchester United ...</td>\n",
       "    </tr>\n",
       "    <tr>\n",
       "      <th>2</th>\n",
       "      <td>business/2021/jan/01/covid-measures-labour-uni...</td>\n",
       "      <td>article</td>\n",
       "      <td>business</td>\n",
       "      <td>Business</td>\n",
       "      <td>2021-01-01T22:30:21Z</td>\n",
       "      <td>Extend Covid measures or households face 'clif...</td>\n",
       "      <td>https://www.theguardian.com/business/2021/jan/...</td>\n",
       "      <td>https://content.guardianapis.com/business/2021...</td>\n",
       "      <td>{'headline': 'Extend Covid measures or househo...</td>\n",
       "      <td>False</td>\n",
       "      <td>pillar/news</td>\n",
       "      <td>News</td>\n",
       "      <td>Many low- and middle-income households will fa...</td>\n",
       "    </tr>\n",
       "    <tr>\n",
       "      <th>3</th>\n",
       "      <td>football/2021/jan/01/chris-basham-sheffield-un...</td>\n",
       "      <td>article</td>\n",
       "      <td>football</td>\n",
       "      <td>Football</td>\n",
       "      <td>2021-01-01T22:30:21Z</td>\n",
       "      <td>Chris Basham says record low fear can spur She...</td>\n",
       "      <td>https://www.theguardian.com/football/2021/jan/...</td>\n",
       "      <td>https://content.guardianapis.com/football/2021...</td>\n",
       "      <td>{'headline': 'Chris Basham says record low fea...</td>\n",
       "      <td>False</td>\n",
       "      <td>pillar/sport</td>\n",
       "      <td>Sport</td>\n",
       "      <td>Chris Basham says the fear of being labelled t...</td>\n",
       "    </tr>\n",
       "    <tr>\n",
       "      <th>4</th>\n",
       "      <td>football/2021/jan/01/bruno-fernandes-fires-man...</td>\n",
       "      <td>article</td>\n",
       "      <td>football</td>\n",
       "      <td>Football</td>\n",
       "      <td>2021-01-01T22:05:08Z</td>\n",
       "      <td>Manchester United go joint top after Fernandes...</td>\n",
       "      <td>https://www.theguardian.com/football/2021/jan/...</td>\n",
       "      <td>https://content.guardianapis.com/football/2021...</td>\n",
       "      <td>{'headline': 'Manchester United go joint top a...</td>\n",
       "      <td>False</td>\n",
       "      <td>pillar/sport</td>\n",
       "      <td>Sport</td>\n",
       "      <td>Manchester United have moved level with Liverp...</td>\n",
       "    </tr>\n",
       "  </tbody>\n",
       "</table>\n",
       "</div>"
      ],
      "text/plain": [
       "                                                  id      type sectionId  \\\n",
       "0  football/live/2021/jan/01/manchester-united-v-...  liveblog  football   \n",
       "1  football/2021/jan/01/manchester-united-must-im...   article  football   \n",
       "2  business/2021/jan/01/covid-measures-labour-uni...   article  business   \n",
       "3  football/2021/jan/01/chris-basham-sheffield-un...   article  football   \n",
       "4  football/2021/jan/01/bruno-fernandes-fires-man...   article  football   \n",
       "\n",
       "  sectionName    webPublicationDate  \\\n",
       "0    Football  2021-01-01T23:30:38Z   \n",
       "1    Football  2021-01-01T23:16:24Z   \n",
       "2    Business  2021-01-01T22:30:21Z   \n",
       "3    Football  2021-01-01T22:30:21Z   \n",
       "4    Football  2021-01-01T22:05:08Z   \n",
       "\n",
       "                                            webTitle  \\\n",
       "0  Manchester United v Aston Villa: Premier Leagu...   \n",
       "1  Manchester United must improve to challenge fo...   \n",
       "2  Extend Covid measures or households face 'clif...   \n",
       "3  Chris Basham says record low fear can spur She...   \n",
       "4  Manchester United go joint top after Fernandes...   \n",
       "\n",
       "                                              webUrl  \\\n",
       "0  https://www.theguardian.com/football/live/2021...   \n",
       "1  https://www.theguardian.com/football/2021/jan/...   \n",
       "2  https://www.theguardian.com/business/2021/jan/...   \n",
       "3  https://www.theguardian.com/football/2021/jan/...   \n",
       "4  https://www.theguardian.com/football/2021/jan/...   \n",
       "\n",
       "                                              apiUrl  \\\n",
       "0  https://content.guardianapis.com/football/live...   \n",
       "1  https://content.guardianapis.com/football/2021...   \n",
       "2  https://content.guardianapis.com/business/2021...   \n",
       "3  https://content.guardianapis.com/football/2021...   \n",
       "4  https://content.guardianapis.com/football/2021...   \n",
       "\n",
       "                                              fields  isHosted      pillarId  \\\n",
       "0  {'headline': 'Manchester United v Aston Villa:...     False  pillar/sport   \n",
       "1  {'headline': 'Manchester United must improve t...     False  pillar/sport   \n",
       "2  {'headline': 'Extend Covid measures or househo...     False   pillar/news   \n",
       "3  {'headline': 'Chris Basham says record low fea...     False  pillar/sport   \n",
       "4  {'headline': 'Manchester United go joint top a...     False  pillar/sport   \n",
       "\n",
       "  pillarName                                           bodyText  \n",
       "0      Sport  “First half we were miles off it,” he tells Sk...  \n",
       "1      Sport  Ole Gunnar Solskjær praised Manchester United ...  \n",
       "2       News  Many low- and middle-income households will fa...  \n",
       "3      Sport  Chris Basham says the fear of being labelled t...  \n",
       "4      Sport  Manchester United have moved level with Liverp...  "
      ]
     },
     "execution_count": 21,
     "metadata": {},
     "output_type": "execute_result"
    }
   ],
   "source": [
    "concatenated_df.head()"
   ]
  },
  {
   "cell_type": "code",
   "execution_count": 22,
   "metadata": {},
   "outputs": [
    {
     "data": {
      "text/html": [
       "<div>\n",
       "<style scoped>\n",
       "    .dataframe tbody tr th:only-of-type {\n",
       "        vertical-align: middle;\n",
       "    }\n",
       "\n",
       "    .dataframe tbody tr th {\n",
       "        vertical-align: top;\n",
       "    }\n",
       "\n",
       "    .dataframe thead th {\n",
       "        text-align: right;\n",
       "    }\n",
       "</style>\n",
       "<table border=\"1\" class=\"dataframe\">\n",
       "  <thead>\n",
       "    <tr style=\"text-align: right;\">\n",
       "      <th></th>\n",
       "      <th>id</th>\n",
       "      <th>type</th>\n",
       "      <th>sectionId</th>\n",
       "      <th>sectionName</th>\n",
       "      <th>webPublicationDate</th>\n",
       "      <th>webTitle</th>\n",
       "      <th>webUrl</th>\n",
       "      <th>apiUrl</th>\n",
       "      <th>fields</th>\n",
       "      <th>isHosted</th>\n",
       "      <th>pillarId</th>\n",
       "      <th>pillarName</th>\n",
       "      <th>bodyText</th>\n",
       "    </tr>\n",
       "  </thead>\n",
       "  <tbody>\n",
       "    <tr>\n",
       "      <th>19243</th>\n",
       "      <td>australia-news/2021/apr/01/was-it-airborne-bri...</td>\n",
       "      <td>article</td>\n",
       "      <td>australia-news</td>\n",
       "      <td>Australia news</td>\n",
       "      <td>2021-04-01T01:33:19Z</td>\n",
       "      <td>Was it airborne? Queensland's Covid outbreak a...</td>\n",
       "      <td>https://www.theguardian.com/australia-news/202...</td>\n",
       "      <td>https://content.guardianapis.com/australia-new...</td>\n",
       "      <td>{'headline': 'Was it airborne? Queensland's Co...</td>\n",
       "      <td>False</td>\n",
       "      <td>pillar/news</td>\n",
       "      <td>News</td>\n",
       "      <td>The mystery coronavirus infections of healthca...</td>\n",
       "    </tr>\n",
       "    <tr>\n",
       "      <th>19245</th>\n",
       "      <td>australia-news/2021/apr/01/calls-for-inquiry-a...</td>\n",
       "      <td>article</td>\n",
       "      <td>australia-news</td>\n",
       "      <td>Australia news</td>\n",
       "      <td>2021-04-01T00:40:14Z</td>\n",
       "      <td>Calls for inquiry after Sydney police arrest I...</td>\n",
       "      <td>https://www.theguardian.com/australia-news/202...</td>\n",
       "      <td>https://content.guardianapis.com/australia-new...</td>\n",
       "      <td>{'headline': 'Calls for inquiry after Sydney p...</td>\n",
       "      <td>False</td>\n",
       "      <td>pillar/news</td>\n",
       "      <td>News</td>\n",
       "      <td>There are calls for an independent investigati...</td>\n",
       "    </tr>\n",
       "    <tr>\n",
       "      <th>19246</th>\n",
       "      <td>australia-news/2021/apr/01/easter-is-good-to-g...</td>\n",
       "      <td>article</td>\n",
       "      <td>australia-news</td>\n",
       "      <td>Australia news</td>\n",
       "      <td>2021-04-01T00:11:56Z</td>\n",
       "      <td>'Easter is good to go': Brisbane lockdown to l...</td>\n",
       "      <td>https://www.theguardian.com/australia-news/202...</td>\n",
       "      <td>https://content.guardianapis.com/australia-new...</td>\n",
       "      <td>{'headline': ''Easter is good to go': Brisbane...</td>\n",
       "      <td>False</td>\n",
       "      <td>pillar/news</td>\n",
       "      <td>News</td>\n",
       "      <td>The Queensland premier, Annastacia Palaszcuzk,...</td>\n",
       "    </tr>\n",
       "    <tr>\n",
       "      <th>19247</th>\n",
       "      <td>world/2021/apr/01/siouxsie-wiles-named-new-zea...</td>\n",
       "      <td>article</td>\n",
       "      <td>world</td>\n",
       "      <td>World news</td>\n",
       "      <td>2021-04-01T00:06:46Z</td>\n",
       "      <td>Siouxsie Wiles named New Zealander of the Year</td>\n",
       "      <td>https://www.theguardian.com/world/2021/apr/01/...</td>\n",
       "      <td>https://content.guardianapis.com/world/2021/ap...</td>\n",
       "      <td>{'headline': 'Siouxsie Wiles named New Zealand...</td>\n",
       "      <td>False</td>\n",
       "      <td>pillar/news</td>\n",
       "      <td>News</td>\n",
       "      <td>Scientist Siouxsie Wiles has been named New Ze...</td>\n",
       "    </tr>\n",
       "    <tr>\n",
       "      <th>19248</th>\n",
       "      <td>us-news/live/2021/mar/31/joe-biden-infrastruct...</td>\n",
       "      <td>liveblog</td>\n",
       "      <td>us-news</td>\n",
       "      <td>US news</td>\n",
       "      <td>2021-04-01T00:02:15Z</td>\n",
       "      <td>Biden praises infrastructure plan as a 'once-i...</td>\n",
       "      <td>https://www.theguardian.com/us-news/live/2021/...</td>\n",
       "      <td>https://content.guardianapis.com/us-news/live/...</td>\n",
       "      <td>{'headline': 'Biden praises infrastructure pla...</td>\n",
       "      <td>False</td>\n",
       "      <td>pillar/news</td>\n",
       "      <td>News</td>\n",
       "      <td>Joe Biden outlined his infrastructure plan in ...</td>\n",
       "    </tr>\n",
       "  </tbody>\n",
       "</table>\n",
       "</div>"
      ],
      "text/plain": [
       "                                                      id      type  \\\n",
       "19243  australia-news/2021/apr/01/was-it-airborne-bri...   article   \n",
       "19245  australia-news/2021/apr/01/calls-for-inquiry-a...   article   \n",
       "19246  australia-news/2021/apr/01/easter-is-good-to-g...   article   \n",
       "19247  world/2021/apr/01/siouxsie-wiles-named-new-zea...   article   \n",
       "19248  us-news/live/2021/mar/31/joe-biden-infrastruct...  liveblog   \n",
       "\n",
       "            sectionId     sectionName    webPublicationDate  \\\n",
       "19243  australia-news  Australia news  2021-04-01T01:33:19Z   \n",
       "19245  australia-news  Australia news  2021-04-01T00:40:14Z   \n",
       "19246  australia-news  Australia news  2021-04-01T00:11:56Z   \n",
       "19247           world      World news  2021-04-01T00:06:46Z   \n",
       "19248         us-news         US news  2021-04-01T00:02:15Z   \n",
       "\n",
       "                                                webTitle  \\\n",
       "19243  Was it airborne? Queensland's Covid outbreak a...   \n",
       "19245  Calls for inquiry after Sydney police arrest I...   \n",
       "19246  'Easter is good to go': Brisbane lockdown to l...   \n",
       "19247    Siouxsie Wiles named New Zealander of the Year    \n",
       "19248  Biden praises infrastructure plan as a 'once-i...   \n",
       "\n",
       "                                                  webUrl  \\\n",
       "19243  https://www.theguardian.com/australia-news/202...   \n",
       "19245  https://www.theguardian.com/australia-news/202...   \n",
       "19246  https://www.theguardian.com/australia-news/202...   \n",
       "19247  https://www.theguardian.com/world/2021/apr/01/...   \n",
       "19248  https://www.theguardian.com/us-news/live/2021/...   \n",
       "\n",
       "                                                  apiUrl  \\\n",
       "19243  https://content.guardianapis.com/australia-new...   \n",
       "19245  https://content.guardianapis.com/australia-new...   \n",
       "19246  https://content.guardianapis.com/australia-new...   \n",
       "19247  https://content.guardianapis.com/world/2021/ap...   \n",
       "19248  https://content.guardianapis.com/us-news/live/...   \n",
       "\n",
       "                                                  fields  isHosted  \\\n",
       "19243  {'headline': 'Was it airborne? Queensland's Co...     False   \n",
       "19245  {'headline': 'Calls for inquiry after Sydney p...     False   \n",
       "19246  {'headline': ''Easter is good to go': Brisbane...     False   \n",
       "19247  {'headline': 'Siouxsie Wiles named New Zealand...     False   \n",
       "19248  {'headline': 'Biden praises infrastructure pla...     False   \n",
       "\n",
       "          pillarId pillarName  \\\n",
       "19243  pillar/news       News   \n",
       "19245  pillar/news       News   \n",
       "19246  pillar/news       News   \n",
       "19247  pillar/news       News   \n",
       "19248  pillar/news       News   \n",
       "\n",
       "                                                bodyText  \n",
       "19243  The mystery coronavirus infections of healthca...  \n",
       "19245  There are calls for an independent investigati...  \n",
       "19246  The Queensland premier, Annastacia Palaszcuzk,...  \n",
       "19247  Scientist Siouxsie Wiles has been named New Ze...  \n",
       "19248  Joe Biden outlined his infrastructure plan in ...  "
      ]
     },
     "execution_count": 22,
     "metadata": {},
     "output_type": "execute_result"
    }
   ],
   "source": [
    "concatenated_df.tail()"
   ]
  },
  {
   "cell_type": "code",
   "execution_count": 23,
   "metadata": {},
   "outputs": [
    {
     "data": {
      "text/plain": [
       "'“First half we were miles off it,” he tells Sky Sports. “First 15 minutes felt like a testimonial. Then they injected some pace into it and deservedly went ahead. “I asked for more at half-time and we deserved to get back in the game. Our goalkeeper has had to make some good saves but they were all from outside the box. On Manchester United’s penalty: “I thought it was a penalty at the time, but I looked at it after the game and saw he tripped himself. I don’t see why Michael Oliver couldn’t have looked at it. That’s what VAR is for isn’t it? He’s tripped himself up. There’s margins in football. I’ve seen it again, and I don’t think it’s a penalty. “We know we’re on a good journey at the moment. We believe we’ve got five key arrivals to go with the players who are Premier League ready now. “This is only our second season in the division, but competing here and against Liverpool and Arsenal shows our journey is going well so far.” Premier League: Jamie Jackson was at Old Trafford to see Manchester United win an exciting game by the odd goal of three and go level on points with league leaders Liverpool. Aaron Wan-Bissaka speaks: “That win shows how much work we’re putting in, how much of a performance that was,” he tells Sky Sports reporter Geoff Shreeves. On his cross for Anthony Martial’s opener: “I could just hear voices - back post, front post,” he said. “I just went with the front post and put it there.” On his culpability for Aston Villa’s equaliser: “They played a quick free-kick,” he says. “It’s unfortunate, but as you can see, we hit back. The win means a lot, it shows where we’ve come from, from the start of the season. We’re just taking it game by game. It was a late start for us, we were in catch-up mode, but we’re here now. No excuses.” Manchester United, who travel to Liverpool on 17 January, began the game well, before Villa wrestled control from them after about 20 minutes. A very entertaining game see-sawed, with Anthony Martial giving United the lead by catching three Villa defenders napping as he converted an Aaron Wan-Bissaka cross. Bertrand Traore restored parirty in a helter-skelter second half, as Villa capitalised on some Aaron Wan-Bissaka naivety at a free-kick, before United restored their lead soon after. Bruno Fernandes slotted home from the spot after Douglas Luiz tripped Paul Pogba in the penalty area. Peep! Peep! Peeeeeeep! It’s all over at Old Trafford, where Manchester United have beaten Aston Villa by the odd goal of three to go level on points with Liverpool at the top of the Premier League table. 90+5 min: Rashford embarks on a counter-attack but runs for the corner. He plays the ball inside to Pogba, who is more reluctant to run the clock down. He gives the ball back to Villa who get forward one last time, but to no avail. 90+4 min: United finally get to clear their lines, when Watkins is unable to reach a cross. United substitution: Axel Tuanzebe on for Fred. 90+3 min: From that set piece, Cash is teed up for a rising shot from distance, which De Gea puts out for a third corner in quick succession. 90+2 min: Villa win a corner after good work down the right from McGinn and Cash. Grealish’s delivery is put behind for another corner by Dan James. 90 min: Matic gets booked for a foul on Grealish. We’ll have five minutes of added time. 89 min: Rashford rampages forward with Villa’s defence backing off. He plays the ball wide – ac little too wide – to Dan James and the substitute’s cross come shot fails to trouble Martinez. 89 min: Luke Shaw is booked for a foul on Douglas Luiz. 88 min: James is straight into action, his low shot hitting traffic on its way through to the warm embrace of Emiliano Martinez. 86 min: Man Utd substitution: Dan James on for Bruno Fernandes. The Portuguese midfielder, who has been outstanding, looks very displeased by his withdrawal from the action. 86 min: Matic fouls Cash just down by the technical areas and is perhaps lucky to escape a caution. 84 min: Villa substitution: Keinan Davis on for Anwar El-Ghazi. 82 min: Villa win a free-kick in a wide area after El Ghazi is blocked illegally by Shaw. Matty Cash curls a cross to the far post, where Mings heads narrowly wide. It was a fantastic cross and a brilliant scoring opportunity, but the defender headed wide with plenty of goal to aim at. 81 min: Man Utd substitution I missed earlier while in a Chris Kamara-esque reverie: Nemanja Matic on for Scott McTominay. 79 min: El Ghazi switches wings, presumably to give Matty Cash a dig-out, as he’s being given the run-around by Luke Shaw. 79 min: Villa substitution: Jacob Ramsey on for Bertrand Traore. 78 min: From this corner, the ball is cleared to Rashford. He sends an good effort fizzing just over the angle of post and crossbar. 77 min: The corner is cleared but only as far as Fernandes outside the area. He advances before sending a dipping shot goalwards. Martinez paws it over for a corner. 76 min: Luke Shaw drills another cross from the left towards the near post. Ezra Konsa intercepts to put it out for a corner. 75 min: Another curled Grealish cross for Watkins, who outjumps Bailly but skims his header wide of the upright from five yards out. 73 min: A loose pass from Cash is pounced on by Shaw, who gallops down the left unopposed. He combines with Martial before crossing for Pogba, who shoots low, hard and wide of the upright when scoring looked easier. 72 min: After good foraging work for Traore, El Ghazi shoots low and hard from distance, forcing David De Gea to dive low to his right and save. This is very entertaining stuff. 69 min: Matty Cash comes perilously close to giving away a penalty, getting in a tangle with Luke Shaw on the edge of his own area as the Manchester United full-back beat him for pace down his inside. Referee Michael Oliver sees no foul and neither, apparently, does his VAR Paul Tierney. 67 min: Bissaka goes some towards redeeming himself, taking an inch-perfect cross from the outstanding Grealish off El-Ghazi’s head when the Villa man looked certain to score at the far post. 64 min: Going back to the Villa equaliser, it was Aaron Wan-Bissaka who was guilty of tomfoolery, electing to try – and fail – to stop John McGinn taking a quick free-kick towards Jack Grealish, rather than getting back into position to help his team defend the dead ball. There was a giant hole for Grealish to run into, exactly where Bissaka should have been. 63 min: There was a pause for a VAR check before that penalty was taken but it was never going to be overturned. United retake the lead! Fernandes arrows the ball into the bottom left-hand corner. Martinez guessed the right way, but didn’t get a finger to the ball. Douglas Luiz is penalised after a tangle of legs with Paul Pogba when the Manchester United midfielder had got wrong side of him on the edge of the Villa penalty area. Villa equalise. Bertrand Traore fires home low and hard from about six yards, contrrolling and then converting a Jack Grealish cross from the left as Manchester United’s defence fell asleep at a free kick. 55 min: Eric Bailly gets booked for a late challenge on somebody or other. 54 min: Anwar El-Ghazi fires narrowly wide from distance after being picked out by Jack Grealish with a ball played from right to left. 53 min: Tyrone Mings is forced to head away from his own goal after twisting in mid-air to connect with a Luke Shaw cross. 52 min: Ollie Watkins brings a good save out of De Gea, stretching every sinew to steer a Grealish cross goalwards with his forehead, forcing the Manchester United goalkeeper to tip the ball over the bar. Nothing comes from the corner. 50 min: Lovely play from Bernard Traore after picking up a wonderful crossfield ball from McGinn. He picks out Grealish on the overlap with a backheel but his cross is too high. 50 min: Marcus Rashford does Matty Cash for speed down the left and drills the ball towards the near post. Emiliano Martinez is on hand to block. 48 min: Michael Oliver shows his first yellow card of the game and Harry Maguire is the recipient. He can’t complain, having shoved Grealish off the ball in instalments. 47 min: Good tracking back by Martial, who puts a stop to a Matty Cash gallop down the left, forcing the Villa full-back to play the ball backwards. 46 min: Harry Maguire clips a free-kick from just inside his own half wide in the direction of Fernandes. He proceeds to lose possession. 46 min: Play resumes at Old Trafford, with no changes in personnel on either side. If United can hang on for the win, they’ll go level on points with League leaders Liverpool. A word on Ross Barkley: The midfielder was expected to feature for Villa tonight but it seems he hasn’t fully recovered from his injury. Apologies for the slightly confusing photo I posted earlier, which shows him training before a previous game. Liverpool’s highly decorated captain gets a grilling from Donald McRae, one of the best interviewers in the business. Read on ... Premier League: Spare a thought for Andy Hunter, who had to chisel out 1,000 or so words on one of the most dreary Premier League games ever played earlyier this evening. Here’s how he got on ... Peep! Man United win a corner but there’s no time to take it. Michael Oliver blows his whistle to bring an entertaining first half to a close. Anthony Martial’s header separates the sides. 45 min: Fred plays the ball wide to Shaw, who tries to pick out Martial. Matty Cash clears. 43 min: Villa corner. Bernard Traore swings the ball outwards but it’s headed clear by Pogba, who is having one of his better games in a United shirt. Anthony Martial stoops to conquer between three Villa defenders, powering home a header from the edge of the six yard box after getting on the end of an Aaron Wan-Bissake cross from the right. He had no business scoring there, with three defenders between him and the goal as the ball came in. 38 min: Bruno Fernandes tries his luck from distance, sending the ball flashing wide of the Villa goal. Good effort. 36 min: Eric Bailly swings a petulant hand in the direction of John McGinn’s face as he attempts to grab the ball to take a free-kick. He doesn’t connect and is very lucky - I suspect he’d have been in line for a red card if he’d made contact. 35 min: A Grealish through ball to the edge of the United penalty area is met by Cash, who has to stretch to get a toe on it. United clear. 34 min: Grealish sends the corner kick deep, where it’s met by Ezri Konsa, who sends a looping header towards the edge of the six-yard box. United clear. 33 min: Luke Shaw puts a Matt Targett cross from the left out for a Villa corner. 31 min: Nursing a cut lip, Pogba leaves the field of play after receiving medical attention, before returning immediately. 30 min: Matt Targett heads clear at the near post, contesting the corner kick with Pogba behind him. The Frenchman goes down injured, holding his face - Mings, it was, who caught him with an arm to the the head. 28 min: Tyrone Mings boots a Fernandes cross clear as Manchester United start to reassert their authority. Paul Pogba fails to pick out Martial with a cross but does win his side a corner. 25 min: Nothing comes from the corner but Villa are getting more and more confident. Paul Pogba reminds them they’re in a game on somebody else’s turf, shooting over from the edge of the box after receiving a pass from Rashford. 23 min: More good play from Villa who are visibly growing into the game. McGinn, Grealish, Cash and McGinn combine beautifully with some crisp, neat passing before Eric Bailly is forced to dive in at the near post to prevent Ollie Watkins connecting with a cross from deep. Corner for Villa. 22 min: El Ghazi runs on to a Grealish pass down the left and squares the ball. It’s blocked and cleared. 21 min: A little period of sustained possession for Villa, which abruptly ends by the time I type that comma. They’ve definitely got more of a foothold in this game after a slightly sheepish start. 17 min: Paul Pogba dummies on the edge of the area, allowing Fred to shoot over from further out after connecting with an Aaron Wan-Bissaka cross. The Man United full-back had combined to good effect with Marcus Rashford down the right flank, but Pogba probably should have taken the shot. 15 min: United deal with two Villa corners in quick succession in the wake of that McGinn shot. David De Gea appears to be unhappy with some roughhouse treatment he was getting as the players waited for Jack Grealish to deliver the ball into the penalty area. He complains at length to referee Michael Oliver. 14 min: John McGinn brings an excellent save out of De Gea with an excellent controlled volley towards the bottom left-hand corner. He connected with a cross from Cash, who had given Paul Pogba the slip down the right flank. 14 min: A tip of the hat to the excellent Fernandes, who is already the standpout player in this game. It was he who picked out Martial for that shot on goal, with an excellent pass tyhreaded between defenders. 12 min: Maguire gets his head to that Luke Shaw outswinger, but there isn’t enough pace on the ball for his effort to trouble Martinez. 11 min: Martial spanks the ball goalwards from the edge of the Villa penalty area, but Martinez is equal to his goalbound shot. He getsa a strong hand to the ball, putting it out for a corner. From that, United win another. 10 min: A curled Fernandes cross from the right is headed clear by Cash. United continue to pressurise their visitors. 9 min: It’s pretty even in these opening minutes, although Manchester Un ited are probably having the better of things and looking a little more assured. 7 min: A low, hard Scott McTominey pass towards the Villa penalty area is miscontrolled by Ezri Konsa. Martial can’t quite capitalise and the Villa defender recovers. 7 min: A Bruno Fernandes cross from the right is deflected towards Martinez off Tyrone Mings. 6 min: Villa play it out from the back, under pressure from United. Moments later, the ball is hoofed long and ends up back with David De Gea at the other end of the pitch. 4 min: A foul by Fred on Jack Grealish earns Villa a free-kick just inside the United half. Moments later, Targett’s cross from the left is cleared by Maguire. 2 min: Fred plays the ball down the inside left for Briuno Fernandes to chase. He rifles a cross into the chest of Emiliano Martinez at the near post and the ball breaks for Pogba, who eschews a shooting opportunity. Early panic stations for Villa following a great pass from Fred. 1 min: Another throw-in, this time for United. Luke Shaw takes this one. 1 min: Manchester United get the ball rolling, with Bruno Fernandes doing the honours. It’s immediately lumped out for a Villa throw-in on the left flank, which Matty Cash takes. A minute’s silence: There’s a pre-kick-off pause to remember the former United and Villa manager, Tommy Docherty, who died a day or two ago. May he rest in peace. Not long now: The teams are out on the pitch, with Aston Villa first out, their players wearing black shirts, black shorts and ... I’m going with “light blue” socks. United follow them, their players wearing their customary home colours: red shirts, white shorts, black socks. Exciting news: We have a Big Interview with the Liverpool captain Jordan Henderson going live imminently, which will be posted here for your half-time reading pleasure. A diabolically dull game of football has come to a merciful end at Goodison Park, where West Ham made off with the points courtesy of a Tomas Soucek stab from the edge of the six-yard box in the 86th minute. Those teams: One change for Villa, for whom Tyrone Mings replaces Kourtney Hause. Manchester United have four changes in personnel. Fred and Scott McTominay return in central midfield, while Luke Shaw and Anthony Martial also start. Manchester United: De Gea, Wan-Bissaka, Bailly, Maguire, Shaw, Fred, McTominay, Pogba, Fernandes, Rashford, Martial Subs: Henderson, Greenwood, Mata, James, Van de Beek, Tuanzebe, Telles, Matic, Lingard Aston Villa: Martinez, Cash, Konsa, Mings, Targett, Luiz, McGinn, Grealish, Traore, El Ghazi, Watkins Subs: Heaton, Taylor, Hourihane, Nakamba, Hause, Guilbert, Elmohamady, Davis, Ramsey Referee: Michael Oliver Assistants: Stuart Burt and Simon Bennett. Fourth official: Darren England. VAR: Paul Tierney. Assistant VAR: Lee Betts. Ross Barkley and Tyrone Mings return from injury and suspension respectively and could go straight into the starting line-up. Having instantly hit his stride with Villa, Barkley has not played since 21 November. Trezeguet remains sidelined with a hamstring injury and has yet to participate in full training since pulling up the day before his side’s game against Wolves in mid-December. Striker Wesley is a long-term absentee and is out indefinitely – today marks a year to the day since he suffered a devastating knee injury playing for his side against Burnley. We wish him well. Victor Lindelof remains sidelined with a back injury, which means Eric Bailly is likely to deputise alongside Harry Maguire in the heart of United’s defence. With Edinson Cavani suspended for three games after using a racial term in an Instagram post, which he swiftly removed and apologised for, Anthony Martial could start up front for United. Scott McTominay and Fred were rested for United’s win over Wolves and could return this evening. Happy New Year and welcome to our minute-by-minute coverage of the action from Old Trafford as Manchester United entertain Aston Villa. Both sides are flying high in the table, with Manchester United second behind Liverpool and Aston Villa scaling the unexpectedly dizzy heights of fifth after 14 games. Kick-off tonight at Old Trafford is at 8pm (GMT). Stay tuned in the meantime for team news and build-up.'"
      ]
     },
     "execution_count": 23,
     "metadata": {},
     "output_type": "execute_result"
    }
   ],
   "source": [
    "concatenated_df.iloc[0]['bodyText']"
   ]
  },
  {
   "cell_type": "code",
   "execution_count": 24,
   "metadata": {},
   "outputs": [
    {
     "data": {
      "text/plain": [
       "'Ole Gunnar Solskjær praised Manchester United for beating Aston Villa and drawing level with Liverpool on 33 points but insisted his team need to improve if they are to maintain their title challenge. The manager admitted the closing stages of the 2-1 win at Old Trafford was nerve-racking due to his side’s poor game management. “I did not enjoy the last 10 minutes that much because I feel we should have seen the game out in a better way,” said Solskjær. “It seemed like the cup final or the last game of the season. We need to learn how to play out games better.” United are second to the champions on goal difference after 16 matches and may have a chance to take the outright lead when travelling to Liverpool on 17 January. Solskjær said: “I think the league and the season is going to be so tight anyway. “There are going to be strange results. We have to keep improving and since Project Restart started we have been consistent. “Every time you win a game you take it one step further. The first game is just as important as the last game of the season, they all count the same.” After Anthony Martial’s first-half header opened the scoring, Bertrand Traoré’s 58th-minute equaliser was answered moments later by Bruno Fernandes’s penalty. His 15th strike of the season proved the winner, with an injury time David de Gea save from Matty Cash followed by Eric Bailly’s block of Keinan Davis’s shot the last act of the contest. Solskjær praised his goalkeeper and centre-back. “The game was won by a fantastic block and a great save,” said the United manager. Fernandes’s penalty was claimed by Pogba after Michael Oliver, the referee, adjudged Douglas Luiz to have fouled him in the area. VAR agreed and while Dean Smith also concurred with the decision at the time, when seeing it again after the match Villa’s manager was left “dumbfounded”. Smith said: “They got what I believed was a penalty at the time. I thought Douglas had got too tight from the throw in. “Having seen it back it looks like he [Pogba] has tripped himself up and for me Michael should have been sent to the camera. That is what VAR is for and if there is so much doubt then get yourself over there. I’m a little dumbfounded – it looks very dubious to me.”'"
      ]
     },
     "execution_count": 24,
     "metadata": {},
     "output_type": "execute_result"
    }
   ],
   "source": [
    "concatenated_df.iloc[1]['bodyText']"
   ]
  },
  {
   "cell_type": "code",
   "execution_count": 25,
   "metadata": {},
   "outputs": [
    {
     "data": {
      "text/html": [
       "<div>\n",
       "<style scoped>\n",
       "    .dataframe tbody tr th:only-of-type {\n",
       "        vertical-align: middle;\n",
       "    }\n",
       "\n",
       "    .dataframe tbody tr th {\n",
       "        vertical-align: top;\n",
       "    }\n",
       "\n",
       "    .dataframe thead th {\n",
       "        text-align: right;\n",
       "    }\n",
       "</style>\n",
       "<table border=\"1\" class=\"dataframe\">\n",
       "  <thead>\n",
       "    <tr style=\"text-align: right;\">\n",
       "      <th></th>\n",
       "      <th>bodyText</th>\n",
       "      <th>sectionName</th>\n",
       "    </tr>\n",
       "  </thead>\n",
       "  <tbody>\n",
       "    <tr>\n",
       "      <th>0</th>\n",
       "      <td>“First half we were miles off it,” he tells Sk...</td>\n",
       "      <td>Football</td>\n",
       "    </tr>\n",
       "    <tr>\n",
       "      <th>1</th>\n",
       "      <td>Ole Gunnar Solskjær praised Manchester United ...</td>\n",
       "      <td>Football</td>\n",
       "    </tr>\n",
       "    <tr>\n",
       "      <th>2</th>\n",
       "      <td>Many low- and middle-income households will fa...</td>\n",
       "      <td>Business</td>\n",
       "    </tr>\n",
       "    <tr>\n",
       "      <th>3</th>\n",
       "      <td>Chris Basham says the fear of being labelled t...</td>\n",
       "      <td>Football</td>\n",
       "    </tr>\n",
       "    <tr>\n",
       "      <th>4</th>\n",
       "      <td>Manchester United have moved level with Liverp...</td>\n",
       "      <td>Football</td>\n",
       "    </tr>\n",
       "  </tbody>\n",
       "</table>\n",
       "</div>"
      ],
      "text/plain": [
       "                                            bodyText sectionName\n",
       "0  “First half we were miles off it,” he tells Sk...    Football\n",
       "1  Ole Gunnar Solskjær praised Manchester United ...    Football\n",
       "2  Many low- and middle-income households will fa...    Business\n",
       "3  Chris Basham says the fear of being labelled t...    Football\n",
       "4  Manchester United have moved level with Liverp...    Football"
      ]
     },
     "execution_count": 25,
     "metadata": {},
     "output_type": "execute_result"
    }
   ],
   "source": [
    "new_data = concatenated_df[['bodyText', 'sectionName']].copy()\n",
    "new_data.head()"
   ]
  },
  {
   "cell_type": "code",
   "execution_count": 26,
   "metadata": {},
   "outputs": [
    {
     "data": {
      "text/plain": [
       "<seaborn.axisgrid.FacetGrid at 0x270bd6c9a00>"
      ]
     },
     "execution_count": 26,
     "metadata": {},
     "output_type": "execute_result"
    },
    {
     "data": {
      "image/png": "[encoded data removed]",
      "text/plain": [
       "<Figure size 900x360 with 1 Axes>"
      ]
     },
     "metadata": {
      "needs_background": "light"
     },
     "output_type": "display_data"
    }
   ],
   "source": [
    "sns.factorplot(x='sectionName', data=new_data , kind='count',aspect=2.5, palette=\"Paired\" )"
   ]
  },
  {
   "cell_type": "code",
   "execution_count": 27,
   "metadata": {},
   "outputs": [
    {
     "data": {
      "text/plain": [
       "World news            2501\n",
       "Football              1523\n",
       "Opinion               1369\n",
       "Sport                 1302\n",
       "US news               1293\n",
       "Australia news        1159\n",
       "Business              1027\n",
       "UK news                822\n",
       "Politics               679\n",
       "Life and style         636\n",
       "Society                621\n",
       "Environment            619\n",
       "Film                   602\n",
       "Music                  542\n",
       "Books                  532\n",
       "Television & radio     526\n",
       "Education              350\n",
       "Culture                280\n",
       "Food                   260\n",
       "Crosswords             255\n",
       "Global development     249\n",
       "Media                  227\n",
       "Stage                  222\n",
       "Technology             220\n",
       "Art and design         213\n",
       "Money                  202\n",
       "Fashion                170\n",
       "Science                165\n",
       "Travel                 164\n",
       "News                   155\n",
       "Law                     78\n",
       "Games                   46\n",
       "From the Observer       26\n",
       "Info                    16\n",
       "Membership              12\n",
       "From the Guardian        7\n",
       "Inequality               6\n",
       "Weather                  4\n",
       "Cardiff                  2\n",
       "Name: sectionName, dtype: int64"
      ]
     },
     "execution_count": 27,
     "metadata": {},
     "output_type": "execute_result"
    }
   ],
   "source": [
    "new_data['sectionName'].value_counts()"
   ]
  },
  {
   "cell_type": "code",
   "execution_count": 28,
   "metadata": {},
   "outputs": [
    {
     "data": {
      "text/html": [
       "<div>\n",
       "<style scoped>\n",
       "    .dataframe tbody tr th:only-of-type {\n",
       "        vertical-align: middle;\n",
       "    }\n",
       "\n",
       "    .dataframe tbody tr th {\n",
       "        vertical-align: top;\n",
       "    }\n",
       "\n",
       "    .dataframe thead th {\n",
       "        text-align: right;\n",
       "    }\n",
       "</style>\n",
       "<table border=\"1\" class=\"dataframe\">\n",
       "  <thead>\n",
       "    <tr style=\"text-align: right;\">\n",
       "      <th></th>\n",
       "      <th>bodyText</th>\n",
       "      <th>Category</th>\n",
       "    </tr>\n",
       "  </thead>\n",
       "  <tbody>\n",
       "    <tr>\n",
       "      <th>0</th>\n",
       "      <td>“First half we were miles off it,” he tells Sk...</td>\n",
       "      <td>Sport</td>\n",
       "    </tr>\n",
       "    <tr>\n",
       "      <th>1</th>\n",
       "      <td>Ole Gunnar Solskjær praised Manchester United ...</td>\n",
       "      <td>Sport</td>\n",
       "    </tr>\n",
       "    <tr>\n",
       "      <th>2</th>\n",
       "      <td>Many low- and middle-income households will fa...</td>\n",
       "      <td>News</td>\n",
       "    </tr>\n",
       "    <tr>\n",
       "      <th>3</th>\n",
       "      <td>Chris Basham says the fear of being labelled t...</td>\n",
       "      <td>Sport</td>\n",
       "    </tr>\n",
       "    <tr>\n",
       "      <th>4</th>\n",
       "      <td>Manchester United have moved level with Liverp...</td>\n",
       "      <td>Sport</td>\n",
       "    </tr>\n",
       "  </tbody>\n",
       "</table>\n",
       "</div>"
      ],
      "text/plain": [
       "                                            bodyText Category\n",
       "0  “First half we were miles off it,” he tells Sk...    Sport\n",
       "1  Ole Gunnar Solskjær praised Manchester United ...    Sport\n",
       "2  Many low- and middle-income households will fa...     News\n",
       "3  Chris Basham says the fear of being labelled t...    Sport\n",
       "4  Manchester United have moved level with Liverp...    Sport"
      ]
     },
     "execution_count": 28,
     "metadata": {},
     "output_type": "execute_result"
    }
   ],
   "source": [
    "pdata = concatenated_df[['bodyText', 'pillarName']].copy() #News Content\n",
    "pdata = pdata.rename(columns={'pillarName': 'Category'})\n",
    "pdata.head()"
   ]
  },
  {
   "cell_type": "code",
   "execution_count": 29,
   "metadata": {},
   "outputs": [
    {
     "data": {
      "text/plain": [
       "<seaborn.axisgrid.FacetGrid at 0x270c3b956a0>"
      ]
     },
     "execution_count": 29,
     "metadata": {},
     "output_type": "execute_result"
    },
    {
     "data": {
      "image/png": "[encoded data removed]",
      "text/plain": [
       "<Figure size 900x360 with 1 Axes>"
      ]
     },
     "metadata": {
      "needs_background": "light"
     },
     "output_type": "display_data"
    }
   ],
   "source": [
    "sns.factorplot(x='Category', data=pdata , kind='count',aspect=2.5, palette=\"Paired\" )"
   ]
  },
  {
   "cell_type": "code",
   "execution_count": 30,
   "metadata": {},
   "outputs": [],
   "source": [
    "pdata['News_length'] = pdata['bodyText'].str.len()"
   ]
  },
  {
   "cell_type": "markdown",
   "metadata": {},
   "source": [
    "# Get rid of outliers"
   ]
  },
  {
   "cell_type": "code",
   "execution_count": 31,
   "metadata": {},
   "outputs": [
    {
     "data": {
      "image/png": "[encoded data removed]",
      "text/plain": [
       "<Figure size 921.6x432 with 1 Axes>"
      ]
     },
     "metadata": {
      "needs_background": "light"
     },
     "output_type": "display_data"
    }
   ],
   "source": [
    "plt.figure(figsize=(12.8,6))\n",
    "sns.distplot(pdata['News_length']).set_title('News length distribution');"
   ]
  },
  {
   "cell_type": "code",
   "execution_count": 32,
   "metadata": {},
   "outputs": [
    {
     "data": {
      "text/plain": [
       "count     19082.000000\n",
       "mean       5969.828163\n",
       "std        9482.726756\n",
       "min           0.000000\n",
       "25%        2942.250000\n",
       "50%        4288.000000\n",
       "75%        5795.750000\n",
       "max      133707.000000\n",
       "Name: News_length, dtype: float64"
      ]
     },
     "execution_count": 32,
     "metadata": {},
     "output_type": "execute_result"
    }
   ],
   "source": [
    "pdata['News_length'].describe()"
   ]
  },
  {
   "cell_type": "code",
   "execution_count": 33,
   "metadata": {},
   "outputs": [],
   "source": [
    "quantile_95 = pdata['News_length'].quantile(0.95)\n",
    "df_95 = pdata[pdata['News_length'] < quantile_95]"
   ]
  },
  {
   "cell_type": "code",
   "execution_count": 34,
   "metadata": {},
   "outputs": [
    {
     "data": {
      "image/png": "[encoded data removed]",
      "text/plain": [
       "<Figure size 921.6x432 with 1 Axes>"
      ]
     },
     "metadata": {
      "needs_background": "light"
     },
     "output_type": "display_data"
    }
   ],
   "source": [
    "plt.figure(figsize=(12.8,6))\n",
    "sns.distplot(df_95['News_length']).set_title('News length distribution');"
   ]
  },
  {
   "cell_type": "code",
   "execution_count": 35,
   "metadata": {},
   "outputs": [
    {
     "data": {
      "text/plain": [
       "count    18127.000000\n",
       "mean      4360.664754\n",
       "std       2144.905604\n",
       "min          0.000000\n",
       "25%       2872.000000\n",
       "50%       4159.000000\n",
       "75%       5509.500000\n",
       "max      12324.000000\n",
       "Name: News_length, dtype: float64"
      ]
     },
     "execution_count": 35,
     "metadata": {},
     "output_type": "execute_result"
    }
   ],
   "source": [
    "df_95['News_length'].describe()"
   ]
  },
  {
   "cell_type": "markdown",
   "metadata": {},
   "source": [
    "# Preprocessing & Cleaning"
   ]
  },
  {
   "cell_type": "code",
   "execution_count": 36,
   "metadata": {},
   "outputs": [],
   "source": [
    "df_95['Clear'] = df_95['bodyText'].str.replace('-', ' ')\n",
    "df_95['Clear'] = df_95['Clear'].str.replace('\"', '')"
   ]
  },
  {
   "cell_type": "code",
   "execution_count": 37,
   "metadata": {},
   "outputs": [
    {
     "data": {
      "text/html": [
       "<div>\n",
       "<style scoped>\n",
       "    .dataframe tbody tr th:only-of-type {\n",
       "        vertical-align: middle;\n",
       "    }\n",
       "\n",
       "    .dataframe tbody tr th {\n",
       "        vertical-align: top;\n",
       "    }\n",
       "\n",
       "    .dataframe thead th {\n",
       "        text-align: right;\n",
       "    }\n",
       "</style>\n",
       "<table border=\"1\" class=\"dataframe\">\n",
       "  <thead>\n",
       "    <tr style=\"text-align: right;\">\n",
       "      <th></th>\n",
       "      <th>bodyText</th>\n",
       "      <th>Category</th>\n",
       "      <th>News_length</th>\n",
       "      <th>Clear</th>\n",
       "    </tr>\n",
       "  </thead>\n",
       "  <tbody>\n",
       "    <tr>\n",
       "      <th>1</th>\n",
       "      <td>Ole Gunnar Solskjær praised Manchester United ...</td>\n",
       "      <td>Sport</td>\n",
       "      <td>2237</td>\n",
       "      <td>Ole Gunnar Solskjær praised Manchester United ...</td>\n",
       "    </tr>\n",
       "    <tr>\n",
       "      <th>2</th>\n",
       "      <td>Many low- and middle-income households will fa...</td>\n",
       "      <td>News</td>\n",
       "      <td>3771</td>\n",
       "      <td>Many low  and middle income households will fa...</td>\n",
       "    </tr>\n",
       "    <tr>\n",
       "      <th>3</th>\n",
       "      <td>Chris Basham says the fear of being labelled t...</td>\n",
       "      <td>Sport</td>\n",
       "      <td>2220</td>\n",
       "      <td>Chris Basham says the fear of being labelled t...</td>\n",
       "    </tr>\n",
       "    <tr>\n",
       "      <th>4</th>\n",
       "      <td>Manchester United have moved level with Liverp...</td>\n",
       "      <td>Sport</td>\n",
       "      <td>4647</td>\n",
       "      <td>Manchester United have moved level with Liverp...</td>\n",
       "    </tr>\n",
       "    <tr>\n",
       "      <th>5</th>\n",
       "      <td>In American Heiress, his brilliant 2016 book a...</td>\n",
       "      <td>Arts</td>\n",
       "      <td>4864</td>\n",
       "      <td>In American Heiress, his brilliant 2016 book a...</td>\n",
       "    </tr>\n",
       "  </tbody>\n",
       "</table>\n",
       "</div>"
      ],
      "text/plain": [
       "                                            bodyText Category  News_length  \\\n",
       "1  Ole Gunnar Solskjær praised Manchester United ...    Sport         2237   \n",
       "2  Many low- and middle-income households will fa...     News         3771   \n",
       "3  Chris Basham says the fear of being labelled t...    Sport         2220   \n",
       "4  Manchester United have moved level with Liverp...    Sport         4647   \n",
       "5  In American Heiress, his brilliant 2016 book a...     Arts         4864   \n",
       "\n",
       "                                               Clear  \n",
       "1  Ole Gunnar Solskjær praised Manchester United ...  \n",
       "2  Many low  and middle income households will fa...  \n",
       "3  Chris Basham says the fear of being labelled t...  \n",
       "4  Manchester United have moved level with Liverp...  \n",
       "5  In American Heiress, his brilliant 2016 book a...  "
      ]
     },
     "execution_count": 37,
     "metadata": {},
     "output_type": "execute_result"
    }
   ],
   "source": [
    "df_95.head()"
   ]
  },
  {
   "cell_type": "code",
   "execution_count": 38,
   "metadata": {},
   "outputs": [],
   "source": [
    "#to avoid any case-sensitive process\n",
    "df_95['Clear'] = df_95['Clear'].str.lower()"
   ]
  },
  {
   "cell_type": "code",
   "execution_count": 39,
   "metadata": {},
   "outputs": [],
   "source": [
    "\n",
    "df_95['Clear'] = df_95['Clear'].str.replace(\"'s\", \"\")\n",
    "df_95['Clear'] = df_95['Clear'].str.replace(\"’s\", \"\")\n",
    "df_95['Clear'] = df_95['Clear'].str.replace(\"’t\", \"\")\n",
    "df_95['Clear'] = df_95['Clear'].str.replace('\"\"', '')\n",
    "df_95['Clear'] = df_95['Clear'].str.replace(r'\\d+',\"\") #replace all digits\n",
    "df_95['Clear'] = df_95['Clear'].str.replace(r\"http\\S+\", \"\")\n",
    "df_95['Clear'] = df_95['Clear'].str.replace(\"  \", \" \")\n",
    "df_95['Clear'] = df_95['Clear'].str.replace(r'[ ]{2,}',\"\")\n",
    "\n",
    "\n",
    "df_95['Clear'] = df_95['Clear'].str.replace(\"’\", \"'\")"
   ]
  },
  {
   "cell_type": "raw",
   "metadata": {},
   "source": [
    "nltk.help.upenn_tagset()"
   ]
  },
  {
   "cell_type": "code",
   "execution_count": 40,
   "metadata": {},
   "outputs": [
    {
     "name": "stdout",
     "output_type": "stream",
     "text": [
      "!\"#$%&'()*+,-./:;<=>?@[\\]^_`{|}~\n"
     ]
    }
   ],
   "source": [
    "punctuations = string.punctuation \n",
    "print(punctuations)"
   ]
  },
  {
   "cell_type": "code",
   "execution_count": 41,
   "metadata": {},
   "outputs": [],
   "source": [
    "punctuation_signs = list(\"?:!.,;•%!#$%&'()*+,./:;<=>?@[\\]^_`{|}~£“”–\")\n",
    "df_95['Clear'] = df_95['Clear']\n",
    "\n",
    "for punct_sign in punctuation_signs:\n",
    "    df_95['Clear'] = df_95['Clear'].str.replace(punct_sign, '')"
   ]
  },
  {
   "cell_type": "code",
   "execution_count": 42,
   "metadata": {},
   "outputs": [],
   "source": [
    "df_95['Clear'] = df_95['Clear'].str.replace(\"  \", \" \")\n",
    "df_95['Clear'] = df_95['Clear'].str.replace(r'[ ]{2,}',\"\")"
   ]
  },
  {
   "cell_type": "code",
   "execution_count": 43,
   "metadata": {},
   "outputs": [
    {
     "data": {
      "text/plain": [
       "'many low and middle income households will face financial hardship unless ministers maintain support for those who have lost their jobs or experienced steep cuts in income during the second wave of covid labour has said the shadow chancellor anneliese dodds said in a new year message to rishi sunak that the chancellor must extend a range of covid rescue measures due to run out over the next three months to protect struggling households from financial ruin a mortgage holiday scheme and a ban on home repossessions should be extended beyond the january cutoff date said dodds while a a week boost to universal credit due to run out on april should remain in place until the crisis is over analysis by the bank of england in november found that of households experienced a drop in income during the first wave of the pandemic rising to among self employed people dodds said whether employed self employed relying on social security or a combination of all three britain beleaguered households face several cliff edges in the first few months of the looming deadlines include january end of the ban on evictions january deadline for applications for the third grant under the self employed income support scheme january end of ban on home repossessions march applications close for government backed loan schemes and deadline for mortgage holidays april government due to cut a week boost to universal credit april end of the job furlough scheme the price comparison website energy helpline said the number of uk consumers in debt to their electricity provider reached a five year high during the pandemic and was on course to get worse citing figures obtained under a freedom of information request to the regulator ofgem the website said about households had been in debt between july and september a number not seen since the same period in the first three quarters of the calendar year showed a rise in the number of consumers in debt to their supplier compared with the same quarter of with a increase for january march a rise in april june and a jump for july september it called on ofgem and suppliers to do all they can to support the most vulnerable consumers struggling to pay their energy bills as a result of the pandemic today figures could be the beginning of a surge in energy debt right across the country not only are consumers facing higher bills as a result of having to use more energy at home but the pandemic is also leading to the real prospect of more expensive energy into energy helpline director of energy tom lyon said in a statement labour said british households were among the worst prepared for a financial crisis after analysis showed they entered the pandemic with one of the lowest levels of savings in the developed world uk households saved less than the average across other economies in the g group of nations in and a quarter had less than in savings when the first lockdown was imposed last march dodds said the irresponsible decisions taken by the conservatives over the last decade left many uk households without a penny in the bank going into this crisis when covid hit they had nothing to fall back on and now some are teetering on the brink of financial ruin as several covid support cliff edges loom the chancellor chaotic last minute approach to this crisis plunged the uk into the worst downturn of any major economy but it seems he hasn learned any lessons families up and down the country will continue to suffer if he doesn fix britain broken safety net and tackle the root causes of income insecurity across our country'"
      ]
     },
     "execution_count": 43,
     "metadata": {},
     "output_type": "execute_result"
    }
   ],
   "source": [
    "df_95.iloc[1]['Clear']"
   ]
  },
  {
   "cell_type": "code",
   "execution_count": 44,
   "metadata": {},
   "outputs": [
    {
     "data": {
      "text/plain": [
       "'Many low- and middle-income households will face financial hardship unless ministers maintain support for those who have lost their jobs or experienced steep cuts in income during the second wave of Covid-19, Labour has said. The shadow chancellor, Anneliese Dodds, said in a new year message to Rishi Sunak that the chancellor must extend a range of Covid-19 rescue measures due to run out over the next three months “to protect struggling households from financial ruin”. A mortgage holiday scheme and a ban on home repossessions should be extended beyond the 31 January cutoff date, said Dodds, while a £20-a-week boost to universal credit, due to run out on 6 April, should remain in place until the crisis is over. Analysis by the Bank of England in November found that 28% of households experienced a drop in income during the first wave of the pandemic, rising to 66% among self-employed people. Dodds said: “Whether employed, self-employed, relying on social security or a combination of all three, Britain’s beleaguered households face several cliff edges in the first few months of 2021.” The looming deadlines include: • 11 January: end of the ban on evictions. • 29 January: deadline for applications for the third grant under the self-employed income support scheme. • 31 January: end of ban on home repossessions. • 31 March: applications close for government-backed loan schemes and deadline for mortgage holidays. • 6 April: government due to cut £20-a-week boost to universal credit. • 30 April: end of the job furlough scheme. The price comparison website Energy Helpline said the number of UK consumers in debt to their electricity provider reached a five-year high during the pandemic and was on course to get worse. Citing figures obtained under a freedom of information request to the regulator, Ofgem, the website said about 777,000 households had been in debt between July and September, a number not seen since the same period in 2015. The first three quarters of the calendar year showed a rise in the number of consumers in debt to their supplier compared with the same quarter of 2019, with a 12% increase for January-March, a 5% rise in April-June and a 7% jump for July-September. It called on Ofgem and suppliers to “do all they can to support the most vulnerable consumers struggling to pay their energy bills as a result of the pandemic”. “Today’s figures could be the beginning of a surge in energy debt right across the country. Not only are consumers facing higher bills as a result of having to use more energy at home, but the pandemic is also leading to the real prospect of more expensive energy into 2021,” Energy Helpline’s director of energy, Tom Lyon, said in a statement. Labour said British households were among the worst-prepared for a financial crisis after analysis showed they entered the pandemic with one of the lowest levels of savings in the developed world. UK households saved £3,055 less than the average across other economies in the G7 group of nations in 2019, and a quarter had less than £100 in savings when the first lockdown was imposed last March. Dodds said: “The irresponsible decisions taken by the Conservatives over the last decade left many UK households without a penny in the bank going into this crisis. When Covid hit, they had nothing to fall back on – and now some are teetering on the brink of financial ruin as several Covid support cliff edges loom. “The chancellor’s chaotic, last-minute approach to this crisis plunged the UK into the worst downturn of any major economy, but it seems he hasn’t learned any lessons. “Families up and down the country will continue to suffer if he doesn’t fix Britain’s broken safety net and tackle the root causes of income insecurity across our country.”'"
      ]
     },
     "execution_count": 44,
     "metadata": {},
     "output_type": "execute_result"
    }
   ],
   "source": [
    "df_95.iloc[1]['bodyText']"
   ]
  },
  {
   "cell_type": "code",
   "execution_count": 45,
   "metadata": {},
   "outputs": [
    {
     "name": "stdout",
     "output_type": "stream",
     "text": [
      "------------------------------------------------------------\n"
     ]
    },
    {
     "name": "stderr",
     "output_type": "stream",
     "text": [
      "[nltk_data] Downloading package punkt to\n",
      "[nltk_data]     C:\\Users\\asus\\AppData\\Roaming\\nltk_data...\n",
      "[nltk_data]   Package punkt is already up-to-date!\n",
      "[nltk_data] Downloading package wordnet to\n",
      "[nltk_data]     C:\\Users\\asus\\AppData\\Roaming\\nltk_data...\n",
      "[nltk_data]   Package wordnet is already up-to-date!\n"
     ]
    },
    {
     "data": {
      "text/plain": [
       "True"
      ]
     },
     "execution_count": 45,
     "metadata": {},
     "output_type": "execute_result"
    }
   ],
   "source": [
    "# Downloading punkt and wordnet from NLTK\n",
    "nltk.download('punkt')\n",
    "print(\"------------------------------------------------------------\")\n",
    "nltk.download('wordnet')"
   ]
  },
  {
   "cell_type": "markdown",
   "metadata": {},
   "source": [
    "# Lemmatization"
   ]
  },
  {
   "cell_type": "code",
   "execution_count": 46,
   "metadata": {},
   "outputs": [],
   "source": [
    "from nltk.stem import WordNetLemmatizer"
   ]
  },
  {
   "cell_type": "markdown",
   "metadata": {},
   "source": [
    "related forms of a word to a common base form"
   ]
  },
  {
   "cell_type": "code",
   "execution_count": 47,
   "metadata": {},
   "outputs": [],
   "source": [
    "w_tokenizer = nltk.tokenize.WhitespaceTokenizer()\n",
    "lemmatizer = nltk.stem.WordNetLemmatizer()\n",
    "\n",
    "def lemmatize_text(text):\n",
    "    return [lemmatizer.lemmatize(w) for w in w_tokenizer.tokenize(text)]\n",
    "\n",
    "df_95['text_lemmatized'] = df_95['Clear'].apply(lemmatize_text)"
   ]
  },
  {
   "cell_type": "code",
   "execution_count": 48,
   "metadata": {},
   "outputs": [
    {
     "data": {
      "text/html": [
       "<div>\n",
       "<style scoped>\n",
       "    .dataframe tbody tr th:only-of-type {\n",
       "        vertical-align: middle;\n",
       "    }\n",
       "\n",
       "    .dataframe tbody tr th {\n",
       "        vertical-align: top;\n",
       "    }\n",
       "\n",
       "    .dataframe thead th {\n",
       "        text-align: right;\n",
       "    }\n",
       "</style>\n",
       "<table border=\"1\" class=\"dataframe\">\n",
       "  <thead>\n",
       "    <tr style=\"text-align: right;\">\n",
       "      <th></th>\n",
       "      <th>bodyText</th>\n",
       "      <th>Category</th>\n",
       "      <th>News_length</th>\n",
       "      <th>Clear</th>\n",
       "      <th>text_lemmatized</th>\n",
       "    </tr>\n",
       "  </thead>\n",
       "  <tbody>\n",
       "    <tr>\n",
       "      <th>1</th>\n",
       "      <td>Ole Gunnar Solskjær praised Manchester United ...</td>\n",
       "      <td>Sport</td>\n",
       "      <td>2237</td>\n",
       "      <td>ole gunnar solskjær praised manchester united ...</td>\n",
       "      <td>[ole, gunnar, solskjær, praised, manchester, u...</td>\n",
       "    </tr>\n",
       "    <tr>\n",
       "      <th>2</th>\n",
       "      <td>Many low- and middle-income households will fa...</td>\n",
       "      <td>News</td>\n",
       "      <td>3771</td>\n",
       "      <td>many low and middle income households will fac...</td>\n",
       "      <td>[many, low, and, middle, income, household, wi...</td>\n",
       "    </tr>\n",
       "    <tr>\n",
       "      <th>3</th>\n",
       "      <td>Chris Basham says the fear of being labelled t...</td>\n",
       "      <td>Sport</td>\n",
       "      <td>2220</td>\n",
       "      <td>chris basham says the fear of being labelled t...</td>\n",
       "      <td>[chris, basham, say, the, fear, of, being, lab...</td>\n",
       "    </tr>\n",
       "    <tr>\n",
       "      <th>4</th>\n",
       "      <td>Manchester United have moved level with Liverp...</td>\n",
       "      <td>Sport</td>\n",
       "      <td>4647</td>\n",
       "      <td>manchester united have moved level with liverp...</td>\n",
       "      <td>[manchester, united, have, moved, level, with,...</td>\n",
       "    </tr>\n",
       "    <tr>\n",
       "      <th>5</th>\n",
       "      <td>In American Heiress, his brilliant 2016 book a...</td>\n",
       "      <td>Arts</td>\n",
       "      <td>4864</td>\n",
       "      <td>in american heiress his brilliant book about t...</td>\n",
       "      <td>[in, american, heiress, his, brilliant, book, ...</td>\n",
       "    </tr>\n",
       "  </tbody>\n",
       "</table>\n",
       "</div>"
      ],
      "text/plain": [
       "                                            bodyText Category  News_length  \\\n",
       "1  Ole Gunnar Solskjær praised Manchester United ...    Sport         2237   \n",
       "2  Many low- and middle-income households will fa...     News         3771   \n",
       "3  Chris Basham says the fear of being labelled t...    Sport         2220   \n",
       "4  Manchester United have moved level with Liverp...    Sport         4647   \n",
       "5  In American Heiress, his brilliant 2016 book a...     Arts         4864   \n",
       "\n",
       "                                               Clear  \\\n",
       "1  ole gunnar solskjær praised manchester united ...   \n",
       "2  many low and middle income households will fac...   \n",
       "3  chris basham says the fear of being labelled t...   \n",
       "4  manchester united have moved level with liverp...   \n",
       "5  in american heiress his brilliant book about t...   \n",
       "\n",
       "                                     text_lemmatized  \n",
       "1  [ole, gunnar, solskjær, praised, manchester, u...  \n",
       "2  [many, low, and, middle, income, household, wi...  \n",
       "3  [chris, basham, say, the, fear, of, being, lab...  \n",
       "4  [manchester, united, have, moved, level, with,...  \n",
       "5  [in, american, heiress, his, brilliant, book, ...  "
      ]
     },
     "execution_count": 48,
     "metadata": {},
     "output_type": "execute_result"
    }
   ],
   "source": [
    "df_95.head()"
   ]
  },
  {
   "cell_type": "markdown",
   "metadata": {},
   "source": [
    "# Stopwords"
   ]
  },
  {
   "cell_type": "code",
   "execution_count": 49,
   "metadata": {},
   "outputs": [
    {
     "name": "stdout",
     "output_type": "stream",
     "text": [
      "{'needn', \"mightn't\", 'her', 'too', 'all', 'than', 'this', 'doing', \"didn't\", 'is', 'under', \"weren't\", 'his', 'ma', 'because', 'which', 'if', \"it's\", 'at', 'am', 'such', 'yours', \"don't\", 'wasn', 'm', 'will', 'ain', \"isn't\", 'was', \"wasn't\", \"hasn't\", 'himself', 'or', \"couldn't\", \"doesn't\", \"mustn't\", 'other', 'while', 'theirs', 'again', 'over', \"needn't\", 'with', 'during', 'does', 'only', 'for', \"that'll\", 'how', 'had', 'they', 'having', 'them', 'here', 'mustn', 'an', 'hasn', 'd', 'has', 'been', 'you', 'he', \"she's\", 'its', 'just', \"you're\", 'who', 'off', 'but', \"shouldn't\", 'aren', 'hadn', 'we', 'in', 'it', 'few', 'most', 'very', 'hers', 'each', 'won', 'any', 'itself', 'couldn', \"you'd\", 'further', \"you'll\", 'whom', 'no', 'to', 'nor', 'now', 'll', 'same', 'after', 'themselves', 'through', 'below', \"won't\", 'on', 'didn', 'above', 'doesn', 'shan', 'myself', 'their', 've', 'some', 'y', 're', 'ours', 'against', 't', 'mightn', 'and', 'ourselves', 's', 'by', 'as', 'can', \"wouldn't\", 'until', \"you've\", 'when', 'of', 'don', 'my', 'both', 'so', \"aren't\", \"hadn't\", 'own', 'there', 'shouldn', 'should', 'these', 'once', 'yourself', 'between', 'where', 'not', 'that', 'from', 'him', 'being', 'out', 'up', 'the', 'wouldn', 'o', 'she', 'were', 'herself', 'before', 'down', \"shan't\", 'did', 'more', \"should've\", 'what', 'why', 'have', 'yourselves', 'weren', 'i', 'into', 'are', 'me', 'haven', 'about', \"haven't\", 'isn', 'our', 'then', 'a', 'do', 'your', 'those', 'be'}\n"
     ]
    },
    {
     "name": "stderr",
     "output_type": "stream",
     "text": [
      "[nltk_data] Downloading package stopwords to\n",
      "[nltk_data]     C:\\Users\\asus\\AppData\\Roaming\\nltk_data...\n",
      "[nltk_data]   Package stopwords is already up-to-date!\n"
     ]
    }
   ],
   "source": [
    "nltk.download(\"stopwords\")\n",
    "stopword = set(stopwords.words(\"english\"))\n",
    "print(stopword)"
   ]
  },
  {
   "cell_type": "code",
   "execution_count": 50,
   "metadata": {},
   "outputs": [],
   "source": [
    "stopword = stopwords.words(\"english\")\n",
    "\n",
    "def clean_stop(text):\n",
    "    return [word for word in text if word not in stopword]\n",
    "\n",
    "df_95['clean'] = df_95['text_lemmatized'].apply(clean_stop)"
   ]
  },
  {
   "cell_type": "code",
   "execution_count": 51,
   "metadata": {},
   "outputs": [
    {
     "data": {
      "text/html": [
       "<div>\n",
       "<style scoped>\n",
       "    .dataframe tbody tr th:only-of-type {\n",
       "        vertical-align: middle;\n",
       "    }\n",
       "\n",
       "    .dataframe tbody tr th {\n",
       "        vertical-align: top;\n",
       "    }\n",
       "\n",
       "    .dataframe thead th {\n",
       "        text-align: right;\n",
       "    }\n",
       "</style>\n",
       "<table border=\"1\" class=\"dataframe\">\n",
       "  <thead>\n",
       "    <tr style=\"text-align: right;\">\n",
       "      <th></th>\n",
       "      <th>bodyText</th>\n",
       "      <th>Category</th>\n",
       "      <th>News_length</th>\n",
       "      <th>Clear</th>\n",
       "      <th>text_lemmatized</th>\n",
       "      <th>clean</th>\n",
       "    </tr>\n",
       "  </thead>\n",
       "  <tbody>\n",
       "    <tr>\n",
       "      <th>1</th>\n",
       "      <td>Ole Gunnar Solskjær praised Manchester United ...</td>\n",
       "      <td>Sport</td>\n",
       "      <td>2237</td>\n",
       "      <td>ole gunnar solskjær praised manchester united ...</td>\n",
       "      <td>[ole, gunnar, solskjær, praised, manchester, u...</td>\n",
       "      <td>[ole, gunnar, solskjær, praised, manchester, u...</td>\n",
       "    </tr>\n",
       "    <tr>\n",
       "      <th>2</th>\n",
       "      <td>Many low- and middle-income households will fa...</td>\n",
       "      <td>News</td>\n",
       "      <td>3771</td>\n",
       "      <td>many low and middle income households will fac...</td>\n",
       "      <td>[many, low, and, middle, income, household, wi...</td>\n",
       "      <td>[many, low, middle, income, household, face, f...</td>\n",
       "    </tr>\n",
       "    <tr>\n",
       "      <th>3</th>\n",
       "      <td>Chris Basham says the fear of being labelled t...</td>\n",
       "      <td>Sport</td>\n",
       "      <td>2220</td>\n",
       "      <td>chris basham says the fear of being labelled t...</td>\n",
       "      <td>[chris, basham, say, the, fear, of, being, lab...</td>\n",
       "      <td>[chris, basham, say, fear, labelled, worst, pr...</td>\n",
       "    </tr>\n",
       "    <tr>\n",
       "      <th>4</th>\n",
       "      <td>Manchester United have moved level with Liverp...</td>\n",
       "      <td>Sport</td>\n",
       "      <td>4647</td>\n",
       "      <td>manchester united have moved level with liverp...</td>\n",
       "      <td>[manchester, united, have, moved, level, with,...</td>\n",
       "      <td>[manchester, united, moved, level, liverpool, ...</td>\n",
       "    </tr>\n",
       "    <tr>\n",
       "      <th>5</th>\n",
       "      <td>In American Heiress, his brilliant 2016 book a...</td>\n",
       "      <td>Arts</td>\n",
       "      <td>4864</td>\n",
       "      <td>in american heiress his brilliant book about t...</td>\n",
       "      <td>[in, american, heiress, his, brilliant, book, ...</td>\n",
       "      <td>[american, heiress, brilliant, book, patricia,...</td>\n",
       "    </tr>\n",
       "  </tbody>\n",
       "</table>\n",
       "</div>"
      ],
      "text/plain": [
       "                                            bodyText Category  News_length  \\\n",
       "1  Ole Gunnar Solskjær praised Manchester United ...    Sport         2237   \n",
       "2  Many low- and middle-income households will fa...     News         3771   \n",
       "3  Chris Basham says the fear of being labelled t...    Sport         2220   \n",
       "4  Manchester United have moved level with Liverp...    Sport         4647   \n",
       "5  In American Heiress, his brilliant 2016 book a...     Arts         4864   \n",
       "\n",
       "                                               Clear  \\\n",
       "1  ole gunnar solskjær praised manchester united ...   \n",
       "2  many low and middle income households will fac...   \n",
       "3  chris basham says the fear of being labelled t...   \n",
       "4  manchester united have moved level with liverp...   \n",
       "5  in american heiress his brilliant book about t...   \n",
       "\n",
       "                                     text_lemmatized  \\\n",
       "1  [ole, gunnar, solskjær, praised, manchester, u...   \n",
       "2  [many, low, and, middle, income, household, wi...   \n",
       "3  [chris, basham, say, the, fear, of, being, lab...   \n",
       "4  [manchester, united, have, moved, level, with,...   \n",
       "5  [in, american, heiress, his, brilliant, book, ...   \n",
       "\n",
       "                                               clean  \n",
       "1  [ole, gunnar, solskjær, praised, manchester, u...  \n",
       "2  [many, low, middle, income, household, face, f...  \n",
       "3  [chris, basham, say, fear, labelled, worst, pr...  \n",
       "4  [manchester, united, moved, level, liverpool, ...  \n",
       "5  [american, heiress, brilliant, book, patricia,...  "
      ]
     },
     "execution_count": 51,
     "metadata": {},
     "output_type": "execute_result"
    }
   ],
   "source": [
    "df_95.head()"
   ]
  },
  {
   "cell_type": "code",
   "execution_count": 52,
   "metadata": {},
   "outputs": [],
   "source": [
    "def listToString(text):\n",
    "    return ' '.join(map(str,[word for word in text]))"
   ]
  },
  {
   "cell_type": "code",
   "execution_count": 53,
   "metadata": {},
   "outputs": [],
   "source": [
    "df_95['cleanText'] = df_95['clean'].apply(listToString)"
   ]
  },
  {
   "cell_type": "code",
   "execution_count": 54,
   "metadata": {},
   "outputs": [
    {
     "data": {
      "text/html": [
       "<div>\n",
       "<style scoped>\n",
       "    .dataframe tbody tr th:only-of-type {\n",
       "        vertical-align: middle;\n",
       "    }\n",
       "\n",
       "    .dataframe tbody tr th {\n",
       "        vertical-align: top;\n",
       "    }\n",
       "\n",
       "    .dataframe thead th {\n",
       "        text-align: right;\n",
       "    }\n",
       "</style>\n",
       "<table border=\"1\" class=\"dataframe\">\n",
       "  <thead>\n",
       "    <tr style=\"text-align: right;\">\n",
       "      <th></th>\n",
       "      <th>bodyText</th>\n",
       "      <th>Category</th>\n",
       "      <th>News_length</th>\n",
       "      <th>Clear</th>\n",
       "      <th>text_lemmatized</th>\n",
       "      <th>clean</th>\n",
       "      <th>cleanText</th>\n",
       "    </tr>\n",
       "  </thead>\n",
       "  <tbody>\n",
       "    <tr>\n",
       "      <th>1</th>\n",
       "      <td>Ole Gunnar Solskjær praised Manchester United ...</td>\n",
       "      <td>Sport</td>\n",
       "      <td>2237</td>\n",
       "      <td>ole gunnar solskjær praised manchester united ...</td>\n",
       "      <td>[ole, gunnar, solskjær, praised, manchester, u...</td>\n",
       "      <td>[ole, gunnar, solskjær, praised, manchester, u...</td>\n",
       "      <td>ole gunnar solskjær praised manchester united ...</td>\n",
       "    </tr>\n",
       "    <tr>\n",
       "      <th>2</th>\n",
       "      <td>Many low- and middle-income households will fa...</td>\n",
       "      <td>News</td>\n",
       "      <td>3771</td>\n",
       "      <td>many low and middle income households will fac...</td>\n",
       "      <td>[many, low, and, middle, income, household, wi...</td>\n",
       "      <td>[many, low, middle, income, household, face, f...</td>\n",
       "      <td>many low middle income household face financia...</td>\n",
       "    </tr>\n",
       "    <tr>\n",
       "      <th>3</th>\n",
       "      <td>Chris Basham says the fear of being labelled t...</td>\n",
       "      <td>Sport</td>\n",
       "      <td>2220</td>\n",
       "      <td>chris basham says the fear of being labelled t...</td>\n",
       "      <td>[chris, basham, say, the, fear, of, being, lab...</td>\n",
       "      <td>[chris, basham, say, fear, labelled, worst, pr...</td>\n",
       "      <td>chris basham say fear labelled worst premier l...</td>\n",
       "    </tr>\n",
       "    <tr>\n",
       "      <th>4</th>\n",
       "      <td>Manchester United have moved level with Liverp...</td>\n",
       "      <td>Sport</td>\n",
       "      <td>4647</td>\n",
       "      <td>manchester united have moved level with liverp...</td>\n",
       "      <td>[manchester, united, have, moved, level, with,...</td>\n",
       "      <td>[manchester, united, moved, level, liverpool, ...</td>\n",
       "      <td>manchester united moved level liverpool separa...</td>\n",
       "    </tr>\n",
       "    <tr>\n",
       "      <th>5</th>\n",
       "      <td>In American Heiress, his brilliant 2016 book a...</td>\n",
       "      <td>Arts</td>\n",
       "      <td>4864</td>\n",
       "      <td>in american heiress his brilliant book about t...</td>\n",
       "      <td>[in, american, heiress, his, brilliant, book, ...</td>\n",
       "      <td>[american, heiress, brilliant, book, patricia,...</td>\n",
       "      <td>american heiress brilliant book patricia hears...</td>\n",
       "    </tr>\n",
       "  </tbody>\n",
       "</table>\n",
       "</div>"
      ],
      "text/plain": [
       "                                            bodyText Category  News_length  \\\n",
       "1  Ole Gunnar Solskjær praised Manchester United ...    Sport         2237   \n",
       "2  Many low- and middle-income households will fa...     News         3771   \n",
       "3  Chris Basham says the fear of being labelled t...    Sport         2220   \n",
       "4  Manchester United have moved level with Liverp...    Sport         4647   \n",
       "5  In American Heiress, his brilliant 2016 book a...     Arts         4864   \n",
       "\n",
       "                                               Clear  \\\n",
       "1  ole gunnar solskjær praised manchester united ...   \n",
       "2  many low and middle income households will fac...   \n",
       "3  chris basham says the fear of being labelled t...   \n",
       "4  manchester united have moved level with liverp...   \n",
       "5  in american heiress his brilliant book about t...   \n",
       "\n",
       "                                     text_lemmatized  \\\n",
       "1  [ole, gunnar, solskjær, praised, manchester, u...   \n",
       "2  [many, low, and, middle, income, household, wi...   \n",
       "3  [chris, basham, say, the, fear, of, being, lab...   \n",
       "4  [manchester, united, have, moved, level, with,...   \n",
       "5  [in, american, heiress, his, brilliant, book, ...   \n",
       "\n",
       "                                               clean  \\\n",
       "1  [ole, gunnar, solskjær, praised, manchester, u...   \n",
       "2  [many, low, middle, income, household, face, f...   \n",
       "3  [chris, basham, say, fear, labelled, worst, pr...   \n",
       "4  [manchester, united, moved, level, liverpool, ...   \n",
       "5  [american, heiress, brilliant, book, patricia,...   \n",
       "\n",
       "                                           cleanText  \n",
       "1  ole gunnar solskjær praised manchester united ...  \n",
       "2  many low middle income household face financia...  \n",
       "3  chris basham say fear labelled worst premier l...  \n",
       "4  manchester united moved level liverpool separa...  \n",
       "5  american heiress brilliant book patricia hears...  "
      ]
     },
     "execution_count": 54,
     "metadata": {},
     "output_type": "execute_result"
    }
   ],
   "source": [
    "df_95.head()"
   ]
  },
  {
   "cell_type": "code",
   "execution_count": 55,
   "metadata": {},
   "outputs": [
    {
     "data": {
      "text/html": [
       "<div>\n",
       "<style scoped>\n",
       "    .dataframe tbody tr th:only-of-type {\n",
       "        vertical-align: middle;\n",
       "    }\n",
       "\n",
       "    .dataframe tbody tr th {\n",
       "        vertical-align: top;\n",
       "    }\n",
       "\n",
       "    .dataframe thead th {\n",
       "        text-align: right;\n",
       "    }\n",
       "</style>\n",
       "<table border=\"1\" class=\"dataframe\">\n",
       "  <thead>\n",
       "    <tr style=\"text-align: right;\">\n",
       "      <th></th>\n",
       "      <th>Content</th>\n",
       "      <th>Category</th>\n",
       "    </tr>\n",
       "  </thead>\n",
       "  <tbody>\n",
       "    <tr>\n",
       "      <th>1</th>\n",
       "      <td>ole gunnar solskjær praised manchester united ...</td>\n",
       "      <td>Sport</td>\n",
       "    </tr>\n",
       "    <tr>\n",
       "      <th>2</th>\n",
       "      <td>many low middle income household face financia...</td>\n",
       "      <td>News</td>\n",
       "    </tr>\n",
       "    <tr>\n",
       "      <th>3</th>\n",
       "      <td>chris basham say fear labelled worst premier l...</td>\n",
       "      <td>Sport</td>\n",
       "    </tr>\n",
       "    <tr>\n",
       "      <th>4</th>\n",
       "      <td>manchester united moved level liverpool separa...</td>\n",
       "      <td>Sport</td>\n",
       "    </tr>\n",
       "    <tr>\n",
       "      <th>5</th>\n",
       "      <td>american heiress brilliant book patricia hears...</td>\n",
       "      <td>Arts</td>\n",
       "    </tr>\n",
       "  </tbody>\n",
       "</table>\n",
       "</div>"
      ],
      "text/plain": [
       "                                             Content Category\n",
       "1  ole gunnar solskjær praised manchester united ...    Sport\n",
       "2  many low middle income household face financia...     News\n",
       "3  chris basham say fear labelled worst premier l...    Sport\n",
       "4  manchester united moved level liverpool separa...    Sport\n",
       "5  american heiress brilliant book patricia hears...     Arts"
      ]
     },
     "execution_count": 55,
     "metadata": {},
     "output_type": "execute_result"
    }
   ],
   "source": [
    "data = df_95[['cleanText', 'Category']].copy() #News Content\n",
    "data = data.rename(columns={'cleanText':'Content'})\n",
    "data.head()"
   ]
  },
  {
   "cell_type": "code",
   "execution_count": 56,
   "metadata": {},
   "outputs": [
    {
     "data": {
      "text/plain": [
       "News         9718\n",
       "Arts         2870\n",
       "Sport        2535\n",
       "Lifestyle    1638\n",
       "Opinion      1366\n",
       "Name: Category, dtype: int64"
      ]
     },
     "execution_count": 56,
     "metadata": {},
     "output_type": "execute_result"
    }
   ],
   "source": [
    "data[\"Category\"].value_counts()"
   ]
  },
  {
   "cell_type": "markdown",
   "metadata": {},
   "source": [
    "# Label Encoding"
   ]
  },
  {
   "cell_type": "code",
   "execution_count": 57,
   "metadata": {},
   "outputs": [],
   "source": [
    "from sklearn import preprocessing\n",
    "le = preprocessing.LabelEncoder()\n",
    "data[\"Category1\"] = le.fit_transform(data[\"Category\"].fillna('NaN'))"
   ]
  },
  {
   "cell_type": "raw",
   "metadata": {},
   "source": [
    "Art --> 0\n",
    "Lifestyle --> 1\n",
    "News --> 2\n",
    "Opinion --> 3\n",
    "Sport --> 4"
   ]
  },
  {
   "cell_type": "code",
   "execution_count": 58,
   "metadata": {},
   "outputs": [
    {
     "data": {
      "text/plain": [
       "Content      0\n",
       "Category     0\n",
       "Category1    0\n",
       "dtype: int64"
      ]
     },
     "execution_count": 58,
     "metadata": {},
     "output_type": "execute_result"
    }
   ],
   "source": [
    "data.isnull().sum()"
   ]
  },
  {
   "cell_type": "code",
   "execution_count": 59,
   "metadata": {},
   "outputs": [
    {
     "data": {
      "text/html": [
       "<div>\n",
       "<style scoped>\n",
       "    .dataframe tbody tr th:only-of-type {\n",
       "        vertical-align: middle;\n",
       "    }\n",
       "\n",
       "    .dataframe tbody tr th {\n",
       "        vertical-align: top;\n",
       "    }\n",
       "\n",
       "    .dataframe thead th {\n",
       "        text-align: right;\n",
       "    }\n",
       "</style>\n",
       "<table border=\"1\" class=\"dataframe\">\n",
       "  <thead>\n",
       "    <tr style=\"text-align: right;\">\n",
       "      <th></th>\n",
       "      <th>Content</th>\n",
       "      <th>Category</th>\n",
       "      <th>Category1</th>\n",
       "    </tr>\n",
       "  </thead>\n",
       "  <tbody>\n",
       "    <tr>\n",
       "      <th>1</th>\n",
       "      <td>ole gunnar solskjær praised manchester united ...</td>\n",
       "      <td>Sport</td>\n",
       "      <td>4</td>\n",
       "    </tr>\n",
       "    <tr>\n",
       "      <th>2</th>\n",
       "      <td>many low middle income household face financia...</td>\n",
       "      <td>News</td>\n",
       "      <td>2</td>\n",
       "    </tr>\n",
       "    <tr>\n",
       "      <th>3</th>\n",
       "      <td>chris basham say fear labelled worst premier l...</td>\n",
       "      <td>Sport</td>\n",
       "      <td>4</td>\n",
       "    </tr>\n",
       "    <tr>\n",
       "      <th>4</th>\n",
       "      <td>manchester united moved level liverpool separa...</td>\n",
       "      <td>Sport</td>\n",
       "      <td>4</td>\n",
       "    </tr>\n",
       "    <tr>\n",
       "      <th>5</th>\n",
       "      <td>american heiress brilliant book patricia hears...</td>\n",
       "      <td>Arts</td>\n",
       "      <td>0</td>\n",
       "    </tr>\n",
       "    <tr>\n",
       "      <th>...</th>\n",
       "      <td>...</td>\n",
       "      <td>...</td>\n",
       "      <td>...</td>\n",
       "    </tr>\n",
       "    <tr>\n",
       "      <th>19242</th>\n",
       "      <td>recent petition launched chanel conto calling ...</td>\n",
       "      <td>Opinion</td>\n",
       "      <td>3</td>\n",
       "    </tr>\n",
       "    <tr>\n",
       "      <th>19243</th>\n",
       "      <td>mystery coronavirus infection healthcare worke...</td>\n",
       "      <td>News</td>\n",
       "      <td>2</td>\n",
       "    </tr>\n",
       "    <tr>\n",
       "      <th>19245</th>\n",
       "      <td>call independent investigation arrest indigeno...</td>\n",
       "      <td>News</td>\n",
       "      <td>2</td>\n",
       "    </tr>\n",
       "    <tr>\n",
       "      <th>19246</th>\n",
       "      <td>queensland premier annastacia palaszcuzk ha an...</td>\n",
       "      <td>News</td>\n",
       "      <td>2</td>\n",
       "    </tr>\n",
       "    <tr>\n",
       "      <th>19247</th>\n",
       "      <td>scientist siouxsie wile ha named new zealander...</td>\n",
       "      <td>News</td>\n",
       "      <td>2</td>\n",
       "    </tr>\n",
       "  </tbody>\n",
       "</table>\n",
       "<p>18127 rows × 3 columns</p>\n",
       "</div>"
      ],
      "text/plain": [
       "                                                 Content Category  Category1\n",
       "1      ole gunnar solskjær praised manchester united ...    Sport          4\n",
       "2      many low middle income household face financia...     News          2\n",
       "3      chris basham say fear labelled worst premier l...    Sport          4\n",
       "4      manchester united moved level liverpool separa...    Sport          4\n",
       "5      american heiress brilliant book patricia hears...     Arts          0\n",
       "...                                                  ...      ...        ...\n",
       "19242  recent petition launched chanel conto calling ...  Opinion          3\n",
       "19243  mystery coronavirus infection healthcare worke...     News          2\n",
       "19245  call independent investigation arrest indigeno...     News          2\n",
       "19246  queensland premier annastacia palaszcuzk ha an...     News          2\n",
       "19247  scientist siouxsie wile ha named new zealander...     News          2\n",
       "\n",
       "[18127 rows x 3 columns]"
      ]
     },
     "execution_count": 59,
     "metadata": {},
     "output_type": "execute_result"
    }
   ],
   "source": [
    "data"
   ]
  },
  {
   "cell_type": "markdown",
   "metadata": {},
   "source": [
    "# Remove NaN values "
   ]
  },
  {
   "cell_type": "code",
   "execution_count": 60,
   "metadata": {},
   "outputs": [],
   "source": [
    "def isBlank (myString):\n",
    "    if myString and myString.strip():\n",
    "        return False\n",
    "    return np.NaN"
   ]
  },
  {
   "cell_type": "code",
   "execution_count": 61,
   "metadata": {},
   "outputs": [],
   "source": [
    "data['control'] = data['Content'].apply(isBlank)"
   ]
  },
  {
   "cell_type": "code",
   "execution_count": 62,
   "metadata": {},
   "outputs": [],
   "source": [
    "data['control1'] = data['Category'].apply(isBlank)"
   ]
  },
  {
   "cell_type": "code",
   "execution_count": 63,
   "metadata": {},
   "outputs": [
    {
     "data": {
      "text/plain": [
       "Content        0\n",
       "Category       0\n",
       "Category1      0\n",
       "control      294\n",
       "control1       0\n",
       "dtype: int64"
      ]
     },
     "execution_count": 63,
     "metadata": {},
     "output_type": "execute_result"
    }
   ],
   "source": [
    "data.isnull().sum()"
   ]
  },
  {
   "cell_type": "code",
   "execution_count": 64,
   "metadata": {},
   "outputs": [
    {
     "data": {
      "text/html": [
       "<div>\n",
       "<style scoped>\n",
       "    .dataframe tbody tr th:only-of-type {\n",
       "        vertical-align: middle;\n",
       "    }\n",
       "\n",
       "    .dataframe tbody tr th {\n",
       "        vertical-align: top;\n",
       "    }\n",
       "\n",
       "    .dataframe thead th {\n",
       "        text-align: right;\n",
       "    }\n",
       "</style>\n",
       "<table border=\"1\" class=\"dataframe\">\n",
       "  <thead>\n",
       "    <tr style=\"text-align: right;\">\n",
       "      <th></th>\n",
       "      <th>Content</th>\n",
       "      <th>Category</th>\n",
       "      <th>Category1</th>\n",
       "      <th>control</th>\n",
       "      <th>control1</th>\n",
       "    </tr>\n",
       "  </thead>\n",
       "  <tbody>\n",
       "    <tr>\n",
       "      <th>19242</th>\n",
       "      <td>recent petition launched chanel conto calling ...</td>\n",
       "      <td>Opinion</td>\n",
       "      <td>3</td>\n",
       "      <td>False</td>\n",
       "      <td>False</td>\n",
       "    </tr>\n",
       "    <tr>\n",
       "      <th>19243</th>\n",
       "      <td>mystery coronavirus infection healthcare worke...</td>\n",
       "      <td>News</td>\n",
       "      <td>2</td>\n",
       "      <td>False</td>\n",
       "      <td>False</td>\n",
       "    </tr>\n",
       "    <tr>\n",
       "      <th>19245</th>\n",
       "      <td>call independent investigation arrest indigeno...</td>\n",
       "      <td>News</td>\n",
       "      <td>2</td>\n",
       "      <td>False</td>\n",
       "      <td>False</td>\n",
       "    </tr>\n",
       "    <tr>\n",
       "      <th>19246</th>\n",
       "      <td>queensland premier annastacia palaszcuzk ha an...</td>\n",
       "      <td>News</td>\n",
       "      <td>2</td>\n",
       "      <td>False</td>\n",
       "      <td>False</td>\n",
       "    </tr>\n",
       "    <tr>\n",
       "      <th>19247</th>\n",
       "      <td>scientist siouxsie wile ha named new zealander...</td>\n",
       "      <td>News</td>\n",
       "      <td>2</td>\n",
       "      <td>False</td>\n",
       "      <td>False</td>\n",
       "    </tr>\n",
       "  </tbody>\n",
       "</table>\n",
       "</div>"
      ],
      "text/plain": [
       "                                                 Content Category  Category1  \\\n",
       "19242  recent petition launched chanel conto calling ...  Opinion          3   \n",
       "19243  mystery coronavirus infection healthcare worke...     News          2   \n",
       "19245  call independent investigation arrest indigeno...     News          2   \n",
       "19246  queensland premier annastacia palaszcuzk ha an...     News          2   \n",
       "19247  scientist siouxsie wile ha named new zealander...     News          2   \n",
       "\n",
       "      control  control1  \n",
       "19242   False     False  \n",
       "19243   False     False  \n",
       "19245   False     False  \n",
       "19246   False     False  \n",
       "19247   False     False  "
      ]
     },
     "execution_count": 64,
     "metadata": {},
     "output_type": "execute_result"
    }
   ],
   "source": [
    "data.tail()"
   ]
  },
  {
   "cell_type": "code",
   "execution_count": 65,
   "metadata": {},
   "outputs": [
    {
     "name": "stdout",
     "output_type": "stream",
     "text": [
      "18127\n"
     ]
    }
   ],
   "source": [
    "print(data.shape[0])"
   ]
  },
  {
   "cell_type": "code",
   "execution_count": 66,
   "metadata": {},
   "outputs": [
    {
     "name": "stdout",
     "output_type": "stream",
     "text": [
      "17833\n"
     ]
    }
   ],
   "source": [
    "data.dropna(axis=0,inplace=True)\n",
    "data.tail()\n",
    "print(data.shape[0])"
   ]
  },
  {
   "cell_type": "markdown",
   "metadata": {},
   "source": [
    "# Train-Test Split"
   ]
  },
  {
   "cell_type": "code",
   "execution_count": 67,
   "metadata": {},
   "outputs": [],
   "source": [
    "X_train, X_test, y_train, y_test = train_test_split(data['Content'], \n",
    "                                                    data['Category1'], \n",
    "                                                    test_size=0.2, \n",
    "                                                    random_state=32)"
   ]
  },
  {
   "cell_type": "markdown",
   "metadata": {},
   "source": [
    "# TF-IDF"
   ]
  },
  {
   "cell_type": "code",
   "execution_count": 68,
   "metadata": {},
   "outputs": [],
   "source": [
    "# Parameter election\n",
    "ngram_range = (1,2)\n",
    "min_df = 10\n",
    "max_df = 1.\n",
    "max_features = 300"
   ]
  },
  {
   "cell_type": "code",
   "execution_count": 69,
   "metadata": {},
   "outputs": [
    {
     "name": "stdout",
     "output_type": "stream",
     "text": [
      "(14266, 300)\n",
      "(3567, 300)\n"
     ]
    }
   ],
   "source": [
    "from sklearn.feature_extraction.text import TfidfVectorizer\n",
    "\n",
    "tfidf = TfidfVectorizer(encoding='utf-8',\n",
    "                        ngram_range=ngram_range,\n",
    "                        stop_words=None,\n",
    "                        lowercase=False,\n",
    "                        max_df=max_df,\n",
    "                        min_df=min_df,\n",
    "                        max_features=max_features,\n",
    "                        norm='l2',\n",
    "                        sublinear_tf=True)\n",
    "                        \n",
    "features_train = tfidf.fit_transform(X_train).toarray()\n",
    "labels_train = y_train\n",
    "print(features_train.shape)\n",
    "\n",
    "features_test = tfidf.transform(X_test).toarray()\n",
    "labels_test = y_test\n",
    "print(features_test.shape)"
   ]
  },
  {
   "cell_type": "code",
   "execution_count": 70,
   "metadata": {},
   "outputs": [
    {
     "name": "stdout",
     "output_type": "stream",
     "text": [
      "(14266, 300)\n",
      "(3567, 300)\n"
     ]
    }
   ],
   "source": [
    "print(features_train.shape)\n",
    "print(features_test.shape)"
   ]
  },
  {
   "cell_type": "code",
   "execution_count": 71,
   "metadata": {},
   "outputs": [],
   "source": [
    "accuracies = []\n",
    "models = ['Random Forest Classifier', 'Support Vector Machine', 'K-Nearest Neighbors', 'Gradient Boosting']"
   ]
  },
  {
   "cell_type": "markdown",
   "metadata": {},
   "source": [
    "# Random Forest Classifier"
   ]
  },
  {
   "cell_type": "code",
   "execution_count": 72,
   "metadata": {},
   "outputs": [
    {
     "data": {
      "text/plain": [
       "RandomForestClassifier(random_state=8)"
      ]
     },
     "execution_count": 72,
     "metadata": {},
     "output_type": "execute_result"
    }
   ],
   "source": [
    "from sklearn.ensemble import RandomForestClassifier\n",
    "from pprint import pprint\n",
    "from sklearn.metrics import classification_report, confusion_matrix, accuracy_score\n",
    "\n",
    "rfc = RandomForestClassifier(random_state=8)\n",
    "rfc.fit(features_train, labels_train)"
   ]
  },
  {
   "cell_type": "code",
   "execution_count": 73,
   "metadata": {},
   "outputs": [],
   "source": [
    "rfc_pred = rfc.predict(features_test)"
   ]
  },
  {
   "cell_type": "code",
   "execution_count": 74,
   "metadata": {},
   "outputs": [
    {
     "name": "stdout",
     "output_type": "stream",
     "text": [
      "The training accuracy is: \n",
      "1.0\n"
     ]
    }
   ],
   "source": [
    "# Training accuracy\n",
    "print(\"The training accuracy is: \")\n",
    "print(accuracy_score(labels_train, rfc.predict(features_train)))"
   ]
  },
  {
   "cell_type": "code",
   "execution_count": 75,
   "metadata": {},
   "outputs": [
    {
     "name": "stdout",
     "output_type": "stream",
     "text": [
      "The test accuracy is: \n",
      "0.7922624053826746\n"
     ]
    }
   ],
   "source": [
    "print(\"The test accuracy is: \")\n",
    "print(accuracy_score(labels_test, rfc_pred))\n",
    "ac=accuracy_score(labels_test, rfc_pred)\n",
    "accuracies.append(ac)"
   ]
  },
  {
   "cell_type": "code",
   "execution_count": 76,
   "metadata": {},
   "outputs": [
    {
     "data": {
      "text/plain": [
       "[0.7922624053826746]"
      ]
     },
     "execution_count": 76,
     "metadata": {},
     "output_type": "execute_result"
    }
   ],
   "source": [
    "accuracies"
   ]
  },
  {
   "cell_type": "code",
   "execution_count": 77,
   "metadata": {},
   "outputs": [
    {
     "name": "stdout",
     "output_type": "stream",
     "text": [
      "Classification report\n",
      "              precision    recall  f1-score   support\n",
      "\n",
      "           0       0.75      0.68      0.71       583\n",
      "           1       0.81      0.36      0.50       281\n",
      "           2       0.77      0.97      0.86      1915\n",
      "           3       0.81      0.08      0.14       280\n",
      "           4       0.94      0.88      0.91       508\n",
      "\n",
      "    accuracy                           0.79      3567\n",
      "   macro avg       0.82      0.59      0.63      3567\n",
      "weighted avg       0.80      0.79      0.76      3567\n",
      "\n"
     ]
    }
   ],
   "source": [
    "# Classification report\n",
    "print(\"Classification report\")\n",
    "print(classification_report(labels_test,rfc_pred))"
   ]
  },
  {
   "cell_type": "code",
   "execution_count": 78,
   "metadata": {},
   "outputs": [
    {
     "data": {
      "image/png": "[encoded data removed]",
      "text/plain": [
       "<Figure size 921.6x432 with 2 Axes>"
      ]
     },
     "metadata": {
      "needs_background": "light"
     },
     "output_type": "display_data"
    }
   ],
   "source": [
    "aux_df = data[['Category', 'Category1']].drop_duplicates().sort_values('Category1')\n",
    "conf_matrix = confusion_matrix(labels_test, rfc_pred)\n",
    "plt.figure(figsize=(12.8,6))\n",
    "sns.heatmap(conf_matrix, \n",
    "            annot=True,\n",
    "            xticklabels=aux_df['Category'].values, \n",
    "            yticklabels=aux_df['Category'].values,\n",
    "                cmap=\"Blues\", fmt=\"d\")\n",
    "plt.ylabel('Predicted')\n",
    "plt.xlabel('Actual')\n",
    "plt.title('Confusion matrix')\n",
    "plt.show()"
   ]
  },
  {
   "cell_type": "code",
   "execution_count": 112,
   "metadata": {},
   "outputs": [
    {
     "name": "stdout",
     "output_type": "stream",
     "text": [
      "Scores:  [0.77591036 0.78711485 0.75070028 0.767507   0.78711485 0.77871148\n",
      " 0.74509804 0.78932584 0.77247191 0.74438202]\n",
      "Accuracy:  77.0 %\n",
      "Standard Deviation: +/- 0.0165259274345035\n"
     ]
    }
   ],
   "source": [
    "from sklearn.model_selection import cross_val_score\n",
    "scores = cross_val_score(rfc, features_test, labels_test, cv = 10)\n",
    "print(\"Scores: \", scores)\n",
    "print(\"Accuracy: \", round(scores.mean(), 2) * 100, \"%\")\n",
    "print(\"Standard Deviation: +/-\", scores.std())"
   ]
  },
  {
   "cell_type": "markdown",
   "metadata": {},
   "source": [
    "# Support Vector Machine"
   ]
  },
  {
   "cell_type": "code",
   "execution_count": 79,
   "metadata": {},
   "outputs": [
    {
     "name": "stdout",
     "output_type": "stream",
     "text": [
      "The training accuracy is: \n",
      "0.9503715126875087\n"
     ]
    }
   ],
   "source": [
    "from sklearn import svm\n",
    "svc = svm.SVC(random_state=8)\n",
    "svc.fit(features_train, labels_train)\n",
    "svc_pred = svc.predict(features_test)\n",
    "# Training accuracy\n",
    "print(\"The training accuracy is: \")\n",
    "print(accuracy_score(labels_train, svc.predict(features_train)))"
   ]
  },
  {
   "cell_type": "code",
   "execution_count": 80,
   "metadata": {},
   "outputs": [
    {
     "name": "stdout",
     "output_type": "stream",
     "text": [
      "The test accuracy is: \n",
      "0.8525371460611157\n"
     ]
    }
   ],
   "source": [
    "# Test accuracy\n",
    "print(\"The test accuracy is: \")\n",
    "print(accuracy_score(labels_test, svc_pred))\n",
    "ac1=accuracy_score(labels_test, svc_pred)\n",
    "accuracies.append(ac1)"
   ]
  },
  {
   "cell_type": "code",
   "execution_count": 81,
   "metadata": {},
   "outputs": [
    {
     "name": "stdout",
     "output_type": "stream",
     "text": [
      "Classification report\n",
      "              precision    recall  f1-score   support\n",
      "\n",
      "           0       0.80      0.77      0.79       583\n",
      "           1       0.71      0.56      0.62       281\n",
      "           2       0.87      0.94      0.90      1915\n",
      "           3       0.73      0.54      0.62       280\n",
      "           4       0.97      0.94      0.95       508\n",
      "\n",
      "    accuracy                           0.85      3567\n",
      "   macro avg       0.81      0.75      0.78      3567\n",
      "weighted avg       0.85      0.85      0.85      3567\n",
      "\n"
     ]
    }
   ],
   "source": [
    "#Classification report\n",
    "print(\"Classification report\")\n",
    "print(classification_report(labels_test,svc_pred))"
   ]
  },
  {
   "cell_type": "code",
   "execution_count": 82,
   "metadata": {},
   "outputs": [
    {
     "data": {
      "image/png": "[encoded data removed]",
      "text/plain": [
       "<Figure size 921.6x432 with 2 Axes>"
      ]
     },
     "metadata": {
      "needs_background": "light"
     },
     "output_type": "display_data"
    }
   ],
   "source": [
    "aux_df = data[['Category', 'Category1']].drop_duplicates().sort_values('Category1')\n",
    "conf_matrix = confusion_matrix(labels_test, svc_pred)\n",
    "plt.figure(figsize=(12.8,6))\n",
    "sns.heatmap(conf_matrix, \n",
    "            annot=True,\n",
    "            xticklabels=aux_df['Category'].values, \n",
    "            yticklabels=aux_df['Category'].values,\n",
    "            cmap=\"Blues\", fmt=\"d\")\n",
    "plt.ylabel('Predicted')\n",
    "plt.xlabel('Actual')\n",
    "plt.title('Confusion matrix')\n",
    "plt.show()"
   ]
  },
  {
   "cell_type": "code",
   "execution_count": 115,
   "metadata": {},
   "outputs": [
    {
     "name": "stdout",
     "output_type": "stream",
     "text": [
      "Scores:  [0.82913165 0.82913165 0.79831933 0.83193277 0.83193277 0.82352941\n",
      " 0.80952381 0.84269663 0.83988764 0.79775281]\n",
      "Accuracy:  82.0 %\n",
      "Standard Deviation: +/- 0.015280391466783425\n"
     ]
    }
   ],
   "source": [
    "scores = cross_val_score(svc, features_test, labels_test, cv = 10)\n",
    "print(\"Scores: \", scores)\n",
    "print(\"Accuracy: \", round(scores.mean(), 2) * 100, \"%\")\n",
    "print(\"Standard Deviation: +/-\", scores.std())"
   ]
  },
  {
   "cell_type": "markdown",
   "metadata": {},
   "source": [
    "# KNN"
   ]
  },
  {
   "cell_type": "code",
   "execution_count": 83,
   "metadata": {},
   "outputs": [
    {
     "name": "stdout",
     "output_type": "stream",
     "text": [
      "The training accuracy is: \n",
      "0.8715126875087621\n"
     ]
    }
   ],
   "source": [
    "from sklearn.neighbors import KNeighborsClassifier\n",
    "knn = KNeighborsClassifier()\n",
    "knn.fit(features_train, labels_train)\n",
    "knn_pred = knn.predict(features_test)\n",
    "# Training accuracy\n",
    "print(\"The training accuracy is: \")\n",
    "print(accuracy_score(labels_train, knn.predict(features_train)))"
   ]
  },
  {
   "cell_type": "code",
   "execution_count": 84,
   "metadata": {},
   "outputs": [
    {
     "name": "stdout",
     "output_type": "stream",
     "text": [
      "The test accuracy is: \n",
      "0.8062797869358004\n"
     ]
    }
   ],
   "source": [
    "# Test accuracy\n",
    "print(\"The test accuracy is: \")\n",
    "print(accuracy_score(labels_test, knn_pred))\n",
    "ac2=accuracy_score(labels_test, knn_pred)\n",
    "accuracies.append(ac2)"
   ]
  },
  {
   "cell_type": "code",
   "execution_count": 85,
   "metadata": {},
   "outputs": [
    {
     "name": "stdout",
     "output_type": "stream",
     "text": [
      "Classification report\n",
      "              precision    recall  f1-score   support\n",
      "\n",
      "           0       0.72      0.76      0.74       583\n",
      "           1       0.54      0.54      0.54       281\n",
      "           2       0.85      0.91      0.88      1915\n",
      "           3       0.60      0.19      0.29       280\n",
      "           4       0.93      0.94      0.93       508\n",
      "\n",
      "    accuracy                           0.81      3567\n",
      "   macro avg       0.73      0.67      0.68      3567\n",
      "weighted avg       0.79      0.81      0.79      3567\n",
      "\n"
     ]
    }
   ],
   "source": [
    "#Classification report\n",
    "print(\"Classification report\")\n",
    "print(classification_report(labels_test,knn_pred))"
   ]
  },
  {
   "cell_type": "code",
   "execution_count": 86,
   "metadata": {},
   "outputs": [
    {
     "data": {
      "image/png": "[encoded data removed]",
      "text/plain": [
       "<Figure size 921.6x432 with 2 Axes>"
      ]
     },
     "metadata": {
      "needs_background": "light"
     },
     "output_type": "display_data"
    }
   ],
   "source": [
    "aux_df = data[['Category', 'Category1']].drop_duplicates().sort_values('Category1')\n",
    "conf_matrix = confusion_matrix(labels_test, knn_pred)\n",
    "plt.figure(figsize=(12.8,6))\n",
    "sns.heatmap(conf_matrix, \n",
    "            annot=True,\n",
    "            xticklabels=aux_df['Category'].values, \n",
    "            yticklabels=aux_df['Category'].values,\n",
    "            cmap=\"Blues\", fmt=\"d\")\n",
    "plt.ylabel('Predicted')\n",
    "plt.xlabel('Actual')\n",
    "plt.title('Confusion matrix')\n",
    "plt.show()"
   ]
  },
  {
   "cell_type": "code",
   "execution_count": 113,
   "metadata": {},
   "outputs": [
    {
     "name": "stdout",
     "output_type": "stream",
     "text": [
      "Scores:  [0.80672269 0.78711485 0.79551821 0.80672269 0.81792717 0.76470588\n",
      " 0.78431373 0.83988764 0.80617978 0.76404494]\n",
      "Accuracy:  80.0 %\n",
      "Standard Deviation: +/- 0.022224852515401437\n"
     ]
    }
   ],
   "source": [
    "scores = cross_val_score(knn, features_test, labels_test, cv = 10)\n",
    "print(\"Scores: \", scores)\n",
    "print(\"Accuracy: \", round(scores.mean(), 2) * 100, \"%\")\n",
    "print(\"Standard Deviation: +/-\", scores.std())"
   ]
  },
  {
   "cell_type": "markdown",
   "metadata": {},
   "source": [
    "# Gradient Boosting"
   ]
  },
  {
   "cell_type": "code",
   "execution_count": 87,
   "metadata": {},
   "outputs": [
    {
     "name": "stdout",
     "output_type": "stream",
     "text": [
      "The training accuracy is: \n",
      "0.8867236786765736\n"
     ]
    }
   ],
   "source": [
    "from sklearn.ensemble import GradientBoostingClassifier\n",
    "gbc = GradientBoostingClassifier(random_state = 8)\n",
    "gbc.fit(features_train, labels_train)\n",
    "gbc_pred = gbc.predict(features_test)\n",
    "# Training accuracy\n",
    "print(\"The training accuracy is: \")\n",
    "print(accuracy_score(labels_train, gbc.predict(features_train)))"
   ]
  },
  {
   "cell_type": "code",
   "execution_count": 88,
   "metadata": {},
   "outputs": [
    {
     "name": "stdout",
     "output_type": "stream",
     "text": [
      "The test accuracy is: \n",
      "0.8236613400616765\n"
     ]
    }
   ],
   "source": [
    "# Test accuracy\n",
    "print(\"The test accuracy is: \")\n",
    "print(accuracy_score(labels_test, gbc_pred))\n",
    "ac3=accuracy_score(labels_test, gbc_pred)\n",
    "accuracies.append(ac3)"
   ]
  },
  {
   "cell_type": "code",
   "execution_count": 89,
   "metadata": {},
   "outputs": [
    {
     "name": "stdout",
     "output_type": "stream",
     "text": [
      "Classification report\n",
      "              precision    recall  f1-score   support\n",
      "\n",
      "           0       0.77      0.69      0.73       583\n",
      "           1       0.67      0.44      0.53       281\n",
      "           2       0.84      0.93      0.88      1915\n",
      "           3       0.67      0.57      0.62       280\n",
      "           4       0.94      0.91      0.93       508\n",
      "\n",
      "    accuracy                           0.82      3567\n",
      "   macro avg       0.78      0.71      0.74      3567\n",
      "weighted avg       0.82      0.82      0.82      3567\n",
      "\n"
     ]
    }
   ],
   "source": [
    "#Classification report\n",
    "print(\"Classification report\")\n",
    "print(classification_report(labels_test,gbc_pred))"
   ]
  },
  {
   "cell_type": "code",
   "execution_count": 90,
   "metadata": {},
   "outputs": [
    {
     "data": {
      "image/png": "[encoded data removed]",
      "text/plain": [
       "<Figure size 921.6x432 with 2 Axes>"
      ]
     },
     "metadata": {
      "needs_background": "light"
     },
     "output_type": "display_data"
    }
   ],
   "source": [
    "aux_df = data[['Category', 'Category1']].drop_duplicates().sort_values('Category1')\n",
    "conf_matrix = confusion_matrix(labels_test, gbc_pred)\n",
    "plt.figure(figsize=(12.8,6))\n",
    "sns.heatmap(conf_matrix, \n",
    "            annot=True,\n",
    "            xticklabels=aux_df['Category'].values, \n",
    "            yticklabels=aux_df['Category'].values,\n",
    "            cmap=\"Blues\", fmt=\"d\")\n",
    "plt.ylabel('Predicted')\n",
    "plt.xlabel('Actual')\n",
    "plt.title('Confusion matrix')\n",
    "plt.show()"
   ]
  },
  {
   "cell_type": "markdown",
   "metadata": {},
   "source": [
    "# Comparision"
   ]
  },
  {
   "cell_type": "code",
   "execution_count": 137,
   "metadata": {},
   "outputs": [
    {
     "data": {
      "text/html": [
       "<div>\n",
       "<style scoped>\n",
       "    .dataframe tbody tr th:only-of-type {\n",
       "        vertical-align: middle;\n",
       "    }\n",
       "\n",
       "    .dataframe tbody tr th {\n",
       "        vertical-align: top;\n",
       "    }\n",
       "\n",
       "    .dataframe thead th {\n",
       "        text-align: right;\n",
       "    }\n",
       "</style>\n",
       "<table border=\"1\" class=\"dataframe\">\n",
       "  <thead>\n",
       "    <tr style=\"text-align: right;\">\n",
       "      <th></th>\n",
       "      <th>Algorithms</th>\n",
       "      <th>Accuracy</th>\n",
       "    </tr>\n",
       "  </thead>\n",
       "  <tbody>\n",
       "    <tr>\n",
       "      <th>1</th>\n",
       "      <td>Support Vector Machine</td>\n",
       "      <td>0.852537</td>\n",
       "    </tr>\n",
       "    <tr>\n",
       "      <th>3</th>\n",
       "      <td>Gradient Boosting</td>\n",
       "      <td>0.823661</td>\n",
       "    </tr>\n",
       "    <tr>\n",
       "      <th>2</th>\n",
       "      <td>K-Nearest Neighbors</td>\n",
       "      <td>0.806280</td>\n",
       "    </tr>\n",
       "    <tr>\n",
       "      <th>0</th>\n",
       "      <td>Random Forest Classifier</td>\n",
       "      <td>0.792262</td>\n",
       "    </tr>\n",
       "  </tbody>\n",
       "</table>\n",
       "</div>"
      ],
      "text/plain": [
       "                 Algorithms  Accuracy\n",
       "1    Support Vector Machine  0.852537\n",
       "3         Gradient Boosting  0.823661\n",
       "2       K-Nearest Neighbors  0.806280\n",
       "0  Random Forest Classifier  0.792262"
      ]
     },
     "execution_count": 137,
     "metadata": {},
     "output_type": "execute_result"
    }
   ],
   "source": [
    "compare = pd.DataFrame({'Algorithms' : models , 'Accuracy' : accuracies})\n",
    "compare.sort_values(by='Accuracy' ,ascending=False)"
   ]
  },
  {
   "cell_type": "markdown",
   "metadata": {},
   "source": [
    "# knn"
   ]
  },
  {
   "cell_type": "code",
   "execution_count": 120,
   "metadata": {},
   "outputs": [],
   "source": [
    "from sklearn.neighbors import KNeighborsClassifier\n",
    "from pprint import pprint\n",
    "from sklearn.model_selection import RandomizedSearchCV\n",
    "from sklearn.model_selection import GridSearchCV\n",
    "from sklearn.metrics import classification_report, confusion_matrix, accuracy_score\n",
    "from sklearn.model_selection import ShuffleSplit"
   ]
  },
  {
   "cell_type": "code",
   "execution_count": 121,
   "metadata": {},
   "outputs": [
    {
     "name": "stdout",
     "output_type": "stream",
     "text": [
      "Fitting 3 folds for each of 100 candidates, totalling 300 fits\n"
     ]
    },
    {
     "name": "stderr",
     "output_type": "stream",
     "text": [
      "[Parallel(n_jobs=1)]: Using backend SequentialBackend with 1 concurrent workers.\n",
      "[Parallel(n_jobs=1)]: Done 300 out of 300 | elapsed: 157.9min finished\n"
     ]
    },
    {
     "data": {
      "text/plain": [
       "GridSearchCV(cv=ShuffleSplit(n_splits=3, random_state=8, test_size=0.33, train_size=None),\n",
       "             estimator=KNeighborsClassifier(),\n",
       "             param_grid={'n_neighbors': [1, 6, 11, 16, 21, 26, 31, 36, 41, 46,\n",
       "                                         51, 56, 61, 66, 71, 76, 81, 86, 91, 96,\n",
       "                                         101, 106, 111, 116, 121, 127, 132, 137,\n",
       "                                         142, 147, ...]},\n",
       "             scoring='accuracy', verbose=1)"
      ]
     },
     "execution_count": 121,
     "metadata": {},
     "output_type": "execute_result"
    }
   ],
   "source": [
    "# Create the parameter grid \n",
    "n_neighbors = [int(x) for x in np.linspace(start = 1, stop = 500, num = 100)]\n",
    "\n",
    "param_grid = {'n_neighbors': n_neighbors}\n",
    "\n",
    "# Create a base model\n",
    "knnc = KNeighborsClassifier()\n",
    "\n",
    "# Manually create the splits in CV in order to be able to fix a random_state (GridSearchCV doesn't have that argument)\n",
    "cv_sets = ShuffleSplit(n_splits = 3, test_size = .33, random_state = 8)\n",
    "\n",
    "# Instantiate the grid search model\n",
    "grid_search = GridSearchCV(estimator=knnc, \n",
    "                           param_grid=param_grid,\n",
    "                           scoring='accuracy',\n",
    "                           cv=cv_sets,\n",
    "                           verbose=1)\n",
    "\n",
    "# Fit the grid search to the data\n",
    "grid_search.fit(features_train, labels_train)"
   ]
  },
  {
   "cell_type": "code",
   "execution_count": 122,
   "metadata": {},
   "outputs": [
    {
     "name": "stdout",
     "output_type": "stream",
     "text": [
      "The best hyperparameters from Grid Search are:\n",
      "{'n_neighbors': 11}\n",
      "\n",
      "The mean accuracy of a model with these hyperparameters is:\n",
      "0.8188190314358539\n"
     ]
    }
   ],
   "source": [
    "\n",
    "print(\"The best hyperparameters from Grid Search are:\")\n",
    "print(grid_search.best_params_)\n",
    "print(\"\")\n",
    "print(\"The mean accuracy of a model with these hyperparameters is:\")\n",
    "print(grid_search.best_score_)"
   ]
  },
  {
   "cell_type": "code",
   "execution_count": 123,
   "metadata": {},
   "outputs": [
    {
     "name": "stdout",
     "output_type": "stream",
     "text": [
      "Fitting 3 folds for each of 11 candidates, totalling 33 fits\n"
     ]
    },
    {
     "name": "stderr",
     "output_type": "stream",
     "text": [
      "[Parallel(n_jobs=1)]: Using backend SequentialBackend with 1 concurrent workers.\n",
      "[Parallel(n_jobs=1)]: Done  33 out of  33 | elapsed: 28.2min finished\n"
     ]
    },
    {
     "data": {
      "text/plain": [
       "GridSearchCV(cv=ShuffleSplit(n_splits=3, random_state=8, test_size=0.33, train_size=None),\n",
       "             estimator=KNeighborsClassifier(),\n",
       "             param_grid={'n_neighbors': [1, 2, 3, 4, 5, 6, 7, 8, 9, 10, 11]},\n",
       "             scoring='accuracy', verbose=1)"
      ]
     },
     "execution_count": 123,
     "metadata": {},
     "output_type": "execute_result"
    }
   ],
   "source": [
    "\n",
    "n_neighbors = [1,2,3,4,5,6,7,8,9,10,11]\n",
    "param_grid = {'n_neighbors': n_neighbors}\n",
    "\n",
    "knnc = KNeighborsClassifier()\n",
    "cv_sets = ShuffleSplit(n_splits = 3, test_size = .33, random_state = 8)\n",
    "\n",
    "grid_search = GridSearchCV(estimator=knnc, \n",
    "                           param_grid=param_grid,\n",
    "                           scoring='accuracy',\n",
    "                           cv=cv_sets,\n",
    "                           verbose=1)\n",
    "\n",
    "grid_search.fit(features_train, labels_train)"
   ]
  },
  {
   "cell_type": "code",
   "execution_count": 124,
   "metadata": {},
   "outputs": [
    {
     "name": "stdout",
     "output_type": "stream",
     "text": [
      "The best hyperparameters from Grid Search are:\n",
      "{'n_neighbors': 9}\n",
      "\n",
      "The mean accuracy of a model with these hyperparameters is:\n",
      "0.8188190314358539\n"
     ]
    }
   ],
   "source": [
    "print(\"The best hyperparameters from Grid Search are:\")\n",
    "print(grid_search.best_params_)\n",
    "print(\"\")\n",
    "print(\"The mean accuracy of a model with these hyperparameters is:\")\n",
    "print(grid_search.best_score_)"
   ]
  },
  {
   "cell_type": "code",
   "execution_count": 125,
   "metadata": {},
   "outputs": [],
   "source": [
    "best_knnc = grid_search.best_estimator_"
   ]
  },
  {
   "cell_type": "code",
   "execution_count": 126,
   "metadata": {},
   "outputs": [
    {
     "data": {
      "text/plain": [
       "KNeighborsClassifier(n_neighbors=9)"
      ]
     },
     "execution_count": 126,
     "metadata": {},
     "output_type": "execute_result"
    }
   ],
   "source": [
    "best_knnc"
   ]
  },
  {
   "cell_type": "code",
   "execution_count": 127,
   "metadata": {},
   "outputs": [
    {
     "data": {
      "text/plain": [
       "KNeighborsClassifier(n_neighbors=9)"
      ]
     },
     "execution_count": 127,
     "metadata": {},
     "output_type": "execute_result"
    }
   ],
   "source": [
    "best_knnc.fit(features_train, labels_train)"
   ]
  },
  {
   "cell_type": "code",
   "execution_count": 128,
   "metadata": {},
   "outputs": [],
   "source": [
    "knnc_pred = best_knnc.predict(features_test)\n"
   ]
  },
  {
   "cell_type": "code",
   "execution_count": 129,
   "metadata": {},
   "outputs": [
    {
     "name": "stdout",
     "output_type": "stream",
     "text": [
      "The training accuracy is: \n",
      "0.8519556988644329\n"
     ]
    }
   ],
   "source": [
    "# Training accuracy\n",
    "print(\"The training accuracy is: \")\n",
    "print(accuracy_score(labels_train, best_knnc.predict(features_train)))"
   ]
  },
  {
   "cell_type": "code",
   "execution_count": 130,
   "metadata": {},
   "outputs": [
    {
     "name": "stdout",
     "output_type": "stream",
     "text": [
      "The test accuracy is: \n",
      "0.8135688253434259\n"
     ]
    }
   ],
   "source": [
    "# Test accuracy\n",
    "print(\"The test accuracy is: \")\n",
    "print(accuracy_score(labels_test, knnc_pred))"
   ]
  },
  {
   "cell_type": "code",
   "execution_count": 131,
   "metadata": {},
   "outputs": [
    {
     "name": "stdout",
     "output_type": "stream",
     "text": [
      "Classification report\n",
      "              precision    recall  f1-score   support\n",
      "\n",
      "           0       0.73      0.77      0.75       583\n",
      "           1       0.59      0.55      0.57       281\n",
      "           2       0.84      0.93      0.88      1915\n",
      "           3       0.77      0.16      0.27       280\n",
      "           4       0.94      0.93      0.94       508\n",
      "\n",
      "    accuracy                           0.81      3567\n",
      "   macro avg       0.77      0.67      0.68      3567\n",
      "weighted avg       0.81      0.81      0.79      3567\n",
      "\n"
     ]
    }
   ],
   "source": [
    "# Classification report\n",
    "print(\"Classification report\")\n",
    "print(classification_report(labels_test,knnc_pred))"
   ]
  },
  {
   "cell_type": "markdown",
   "metadata": {},
   "source": [
    "# LSTM"
   ]
  },
  {
   "cell_type": "markdown",
   "metadata": {},
   "source": [
    "https://towardsdatascience.com/multi-class-text-classification-with-lstm-1590bee1bd17"
   ]
  },
  {
   "cell_type": "code",
   "execution_count": 92,
   "metadata": {},
   "outputs": [
    {
     "name": "stdout",
     "output_type": "stream",
     "text": [
      "Found 117745 unique tokens.\n"
     ]
    }
   ],
   "source": [
    "from keras.preprocessing.text import Tokenizer\n",
    "# The maximum number of words to be used. (most frequent)\n",
    "MAX_NB_WORDS = 50000\n",
    "# Max number of words in each complaint.\n",
    "MAX_SEQUENCE_LENGTH = 250\n",
    "# This is fixed.\n",
    "EMBEDDING_DIM = 100\n",
    "#to vectorize a text corpus, by turning each text into either a sequence of integers\n",
    "tokenizer = Tokenizer(num_words=MAX_NB_WORDS, filters='!\"#$%&()*+,-./:;<=>?@[\\]^_`{|}~', lower=True)\n",
    "#Updates internal vocabulary based on a list of texts.\n",
    "tokenizer.fit_on_texts(data['Content'].values)\n",
    "word_index = tokenizer.word_index\n",
    "print('Found %s unique tokens.' % len(word_index))"
   ]
  },
  {
   "cell_type": "code",
   "execution_count": 93,
   "metadata": {},
   "outputs": [
    {
     "name": "stdout",
     "output_type": "stream",
     "text": [
      "Shape of data tensor: (17833, 250)\n"
     ]
    }
   ],
   "source": [
    "from keras.preprocessing.sequence import pad_sequences\n",
    "#takes each word in the text and replaces it with its corresponding integer value from the word_index dictionary\n",
    "X = tokenizer.texts_to_sequences(data['Content'].values)\n",
    "#transforms a list (of length num_samples) of sequences (lists of integers) into a 2D\n",
    "X = pad_sequences(X, maxlen=MAX_SEQUENCE_LENGTH)\n",
    "print('Shape of data tensor:', X.shape)"
   ]
  },
  {
   "cell_type": "code",
   "execution_count": 94,
   "metadata": {},
   "outputs": [
    {
     "name": "stdout",
     "output_type": "stream",
     "text": [
      "Shape of label tensor: (17833, 5)\n"
     ]
    }
   ],
   "source": [
    "Y = pd.get_dummies(data['Category1']).values\n",
    "print('Shape of label tensor:', Y.shape)"
   ]
  },
  {
   "cell_type": "code",
   "execution_count": 95,
   "metadata": {},
   "outputs": [
    {
     "name": "stdout",
     "output_type": "stream",
     "text": [
      "(16049, 250) (16049, 5)\n",
      "(1784, 250) (1784, 5)\n"
     ]
    }
   ],
   "source": [
    "X_train, X_test, Y_train, Y_test = train_test_split(X,Y, test_size = 0.10, random_state = 42)\n",
    "print(X_train.shape,Y_train.shape)\n",
    "print(X_test.shape,Y_test.shape)"
   ]
  },
  {
   "cell_type": "code",
   "execution_count": 96,
   "metadata": {},
   "outputs": [
    {
     "name": "stdout",
     "output_type": "stream",
     "text": [
      "Epoch 1/5\n",
      "226/226 [==============================] - 208s 894ms/step - loss: 1.1435 - accuracy: 0.5941 - val_loss: 0.5239 - val_accuracy: 0.8305\n",
      "Epoch 2/5\n",
      "226/226 [==============================] - 174s 769ms/step - loss: 0.3871 - accuracy: 0.8774 - val_loss: 0.4684 - val_accuracy: 0.8573\n",
      "Epoch 3/5\n",
      "226/226 [==============================] - 188s 831ms/step - loss: 0.2933 - accuracy: 0.9211 - val_loss: 0.5154 - val_accuracy: 0.8779\n",
      "Epoch 4/5\n",
      "226/226 [==============================] - 180s 798ms/step - loss: 0.1129 - accuracy: 0.9700 - val_loss: 0.5092 - val_accuracy: 0.8748\n",
      "Epoch 5/5\n",
      "226/226 [==============================] - 188s 831ms/step - loss: 0.0509 - accuracy: 0.9876 - val_loss: 0.7016 - val_accuracy: 0.8336\n"
     ]
    }
   ],
   "source": [
    "from keras.models import Sequential\n",
    "from keras.layers import Dense\n",
    "from keras.layers import LSTM\n",
    "from keras.layers import LSTM, Activation, Dense, Dropout, Input, Embedding\n",
    "from keras.layers import SpatialDropout1D\n",
    "from keras.callbacks import EarlyStopping\n",
    "\n",
    "model = Sequential()\n",
    "model.add(Embedding(MAX_NB_WORDS, EMBEDDING_DIM, input_length=X.shape[1]))\n",
    "#SpatialDropout1D performs variational dropout in NLP models.\n",
    "model.add(SpatialDropout1D(0.2))\n",
    "model.add(LSTM(100, dropout=0.2, recurrent_dropout=0.2))\n",
    "model.add(Dense(5, activation='softmax'))\n",
    "model.compile(loss='categorical_crossentropy', optimizer='adam', metrics=['accuracy'])\n",
    "\n",
    "epochs = 5\n",
    "batch_size = 64\n",
    "\n",
    "history = model.fit(X_train, Y_train, epochs=epochs, batch_size=batch_size,validation_split=0.1,callbacks=[EarlyStopping(monitor='val_loss', patience=3, min_delta=0.0001)])\n"
   ]
  },
  {
   "cell_type": "code",
   "execution_count": 97,
   "metadata": {},
   "outputs": [
    {
     "name": "stdout",
     "output_type": "stream",
     "text": [
      "56/56 [==============================] - 4s 74ms/step - loss: 0.7262 - accuracy: 0.8201\n",
      "Test set\n",
      "  Loss: 0.726\n",
      "  Accuracy: 0.820\n"
     ]
    }
   ],
   "source": [
    "accr = model.evaluate(X_test,Y_test)\n",
    "print('Test set\\n  Loss: {:0.3f}\\n  Accuracy: {:0.3f}'.format(accr[0],accr[1]))"
   ]
  },
  {
   "cell_type": "code",
   "execution_count": 98,
   "metadata": {},
   "outputs": [
    {
     "data": {
      "image/png": "[encoded data removed]",
      "text/plain": [
       "<Figure size 432x288 with 1 Axes>"
      ]
     },
     "metadata": {
      "needs_background": "light"
     },
     "output_type": "display_data"
    }
   ],
   "source": [
    "plt.title('Loss')\n",
    "plt.plot(history.history['loss'], label='train')\n",
    "plt.plot(history.history['val_loss'], label='test')\n",
    "plt.legend()\n",
    "plt.show();"
   ]
  },
  {
   "cell_type": "code",
   "execution_count": 107,
   "metadata": {},
   "outputs": [
    {
     "data": {
      "image/png": "[encoded data removed]",
      "text/plain": [
       "<Figure size 432x288 with 1 Axes>"
      ]
     },
     "metadata": {
      "needs_background": "light"
     },
     "output_type": "display_data"
    }
   ],
   "source": [
    "plt.title('Accuracy')\n",
    "plt.plot(history.history['accuracy'], label='train')\n",
    "plt.plot(history.history['val_accuracy'], label='test')\n",
    "plt.legend()\n",
    "plt.show();"
   ]
  },
  {
   "cell_type": "markdown",
   "metadata": {},
   "source": [
    "# Epoch=10"
   ]
  },
  {
   "cell_type": "code",
   "execution_count": 133,
   "metadata": {},
   "outputs": [
    {
     "name": "stdout",
     "output_type": "stream",
     "text": [
      "Epoch 1/10\n",
      "226/226 [==============================] - 236s 1s/step - loss: 1.1654 - accuracy: 0.5930 - val_loss: 0.5330 - val_accuracy: 0.8287\n",
      "Epoch 2/10\n",
      "226/226 [==============================] - 228s 1s/step - loss: 0.4290 - accuracy: 0.8684 - val_loss: 0.4950 - val_accuracy: 0.8561\n",
      "Epoch 3/10\n",
      "226/226 [==============================] - 202s 894ms/step - loss: 0.2368 - accuracy: 0.9321 - val_loss: 0.5474 - val_accuracy: 0.8555\n",
      "Epoch 4/10\n",
      "226/226 [==============================] - 205s 906ms/step - loss: 0.1084 - accuracy: 0.9726 - val_loss: 0.5297 - val_accuracy: 0.8592\n",
      "Epoch 5/10\n",
      "226/226 [==============================] - 222s 984ms/step - loss: 0.0516 - accuracy: 0.9855 - val_loss: 0.6223 - val_accuracy: 0.8617\n",
      "56/56 [==============================] - 5s 88ms/step - loss: 0.6622 - accuracy: 0.8470\n",
      "Test set\n",
      "  Loss: 0.662247\n",
      "  Accuracy: 0.846973\n"
     ]
    }
   ],
   "source": [
    "model = Sequential()\n",
    "model.add(Embedding(MAX_NB_WORDS, EMBEDDING_DIM, input_length=X.shape[1]))\n",
    "model.add(SpatialDropout1D(0.2))\n",
    "model.add(LSTM(100, dropout=0.2, recurrent_dropout=0.2))\n",
    "model.add(Dense(5, activation='softmax'))\n",
    "model.compile(loss='categorical_crossentropy', optimizer='adam', metrics=['accuracy'])\n",
    "\n",
    "epochs = 10\n",
    "batch_size = 64\n",
    "\n",
    "history = model.fit(X_train, Y_train, epochs=epochs, batch_size=batch_size,validation_split=0.1,callbacks=[EarlyStopping(monitor='val_loss', patience=3, min_delta=0.0001)])\n",
    "\n",
    "accr = model.evaluate(X_test,Y_test)\n",
    "print('Test set\\n  Loss: {:0.6f}\\n  Accuracy: {:0.6f}'.format(accr[0],accr[1]))"
   ]
  },
  {
   "cell_type": "code",
   "execution_count": 136,
   "metadata": {},
   "outputs": [
    {
     "name": "stdout",
     "output_type": "stream",
     "text": [
      "56/56 [==============================] - 5s 90ms/step - loss: 0.6622 - accuracy: 0.8470\n",
      "Test set\n",
      "  Loss: 0.662247\n",
      "  Accuracy: 0.846973\n"
     ]
    }
   ],
   "source": [
    "accr = model.evaluate(X_test,Y_test)\n",
    "print('Test set\\n  Loss: {:0.6f}\\n  Accuracy: {:0.6f}'.format(accr[0],accr[1]))"
   ]
  },
  {
   "cell_type": "code",
   "execution_count": 134,
   "metadata": {},
   "outputs": [
    {
     "data": {
      "image/png": "[encoded data removed]",
      "text/plain": [
       "<Figure size 432x288 with 1 Axes>"
      ]
     },
     "metadata": {
      "needs_background": "light"
     },
     "output_type": "display_data"
    }
   ],
   "source": [
    "plt.title('Loss')\n",
    "plt.plot(history.history['loss'], label='train')\n",
    "plt.plot(history.history['val_loss'], label='test')\n",
    "plt.legend()\n",
    "plt.show();"
   ]
  },
  {
   "cell_type": "code",
   "execution_count": 135,
   "metadata": {},
   "outputs": [
    {
     "data": {
      "image/png": "[encoded data removed]",
      "text/plain": [
       "<Figure size 432x288 with 1 Axes>"
      ]
     },
     "metadata": {
      "needs_background": "light"
     },
     "output_type": "display_data"
    }
   ],
   "source": [
    "plt.title('Accuracy')\n",
    "plt.plot(history.history['accuracy'], label='train')\n",
    "plt.plot(history.history['val_accuracy'], label='test')\n",
    "plt.legend()\n",
    "plt.show();"
   ]
  }
 ],
 "metadata": {
  "kernelspec": {
   "display_name": "Python 3",
   "language": "python",
   "name": "python3"
  },
  "language_info": {
   "codemirror_mode": {
    "name": "ipython",
    "version": 3
   },
   "file_extension": ".py",
   "mimetype": "text/x-python",
   "name": "python",
   "nbconvert_exporter": "python",
   "pygments_lexer": "ipython3",
   "version": "3.8.5"
  }
 },
 "nbformat": 4,
 "nbformat_minor": 4
}
